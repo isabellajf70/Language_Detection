{
  "nbformat": 4,
  "nbformat_minor": 0,
  "metadata": {
    "colab": {
      "provenance": []
    },
    "kernelspec": {
      "name": "python3",
      "display_name": "Python 3"
    },
    "language_info": {
      "name": "python"
    }
  },
  "cells": [
    {
      "cell_type": "markdown",
      "source": [
        "Steps: \\\n",
        "1. Preprocess the data \\\n",
        "2. Train the model using fasttext \\\n",
        "3. Using trained model to predict \\\n",
        "4. Using FastText pretrained model. \\\n",
        "5. Using Google Translator to translate into English\n",
        "\n"
      ],
      "metadata": {
        "id": "7obeKsduV1tL"
      }
    },
    {
      "cell_type": "markdown",
      "source": [
        "**Preprocessing data**"
      ],
      "metadata": {
        "id": "op5aPnyUb0hq"
      }
    },
    {
      "cell_type": "code",
      "source": [
        "import pandas as pd\n",
        "import numpy as np\n",
        "import math"
      ],
      "metadata": {
        "id": "cIO4e-9Jb0kU"
      },
      "execution_count": 1,
      "outputs": []
    },
    {
      "cell_type": "code",
      "source": [
        "df = pd.read_csv('/content/europarl.csv', names=['lang', 'text'], encoding='latin1')"
      ],
      "metadata": {
        "id": "9su_FifMb0oD"
      },
      "execution_count": null,
      "outputs": []
    },
    {
      "cell_type": "code",
      "source": [
        "df.head(3)"
      ],
      "metadata": {
        "colab": {
          "base_uri": "https://localhost:8080/",
          "height": 143
        },
        "id": "qeqbzQ4bwUQ3",
        "outputId": "a698b7ab-9694-4448-9497-7ea76953ae5f"
      },
      "execution_count": 12,
      "outputs": [
        {
          "output_type": "execute_result",
          "data": {
            "text/plain": [
              "  lang                                               text\n",
              "0   bg  Ð¡ÑÑÑÐ°Ð² Ð½Ð° ÐÐ°ÑÐ»Ð°Ð¼ÐµÐ½ÑÐ°: Ð²Ð¶. ...\n",
              "1   bg  ÐÐ´Ð¾Ð±ÑÑÐ²Ð°Ð½Ðµ Ð½Ð° Ð¿ÑÐ¾ÑÐ¾ÐºÐ¾Ð»Ð° Ð...\n",
              "2   bg  Ð¡ÑÑÑÐ°Ð² Ð½Ð° ÐÐ°ÑÐ»Ð°Ð¼ÐµÐ½ÑÐ°: Ð²Ð¶. ..."
            ],
            "text/html": [
              "\n",
              "\n",
              "  <div id=\"df-9dd9217f-634a-418e-b280-cf548b16b6fe\">\n",
              "    <div class=\"colab-df-container\">\n",
              "      <div>\n",
              "<style scoped>\n",
              "    .dataframe tbody tr th:only-of-type {\n",
              "        vertical-align: middle;\n",
              "    }\n",
              "\n",
              "    .dataframe tbody tr th {\n",
              "        vertical-align: top;\n",
              "    }\n",
              "\n",
              "    .dataframe thead th {\n",
              "        text-align: right;\n",
              "    }\n",
              "</style>\n",
              "<table border=\"1\" class=\"dataframe\">\n",
              "  <thead>\n",
              "    <tr style=\"text-align: right;\">\n",
              "      <th></th>\n",
              "      <th>lang</th>\n",
              "      <th>text</th>\n",
              "    </tr>\n",
              "  </thead>\n",
              "  <tbody>\n",
              "    <tr>\n",
              "      <th>0</th>\n",
              "      <td>bg</td>\n",
              "      <td>Ð¡ÑÑÑÐ°Ð² Ð½Ð° ÐÐ°ÑÐ»Ð°Ð¼ÐµÐ½ÑÐ°: Ð²Ð¶. ...</td>\n",
              "    </tr>\n",
              "    <tr>\n",
              "      <th>1</th>\n",
              "      <td>bg</td>\n",
              "      <td>ÐÐ´Ð¾Ð±ÑÑÐ²Ð°Ð½Ðµ Ð½Ð° Ð¿ÑÐ¾ÑÐ¾ÐºÐ¾Ð»Ð° Ð...</td>\n",
              "    </tr>\n",
              "    <tr>\n",
              "      <th>2</th>\n",
              "      <td>bg</td>\n",
              "      <td>Ð¡ÑÑÑÐ°Ð² Ð½Ð° ÐÐ°ÑÐ»Ð°Ð¼ÐµÐ½ÑÐ°: Ð²Ð¶. ...</td>\n",
              "    </tr>\n",
              "  </tbody>\n",
              "</table>\n",
              "</div>\n",
              "      <button class=\"colab-df-convert\" onclick=\"convertToInteractive('df-9dd9217f-634a-418e-b280-cf548b16b6fe')\"\n",
              "              title=\"Convert this dataframe to an interactive table.\"\n",
              "              style=\"display:none;\">\n",
              "\n",
              "  <svg xmlns=\"http://www.w3.org/2000/svg\" height=\"24px\"viewBox=\"0 0 24 24\"\n",
              "       width=\"24px\">\n",
              "    <path d=\"M0 0h24v24H0V0z\" fill=\"none\"/>\n",
              "    <path d=\"M18.56 5.44l.94 2.06.94-2.06 2.06-.94-2.06-.94-.94-2.06-.94 2.06-2.06.94zm-11 1L8.5 8.5l.94-2.06 2.06-.94-2.06-.94L8.5 2.5l-.94 2.06-2.06.94zm10 10l.94 2.06.94-2.06 2.06-.94-2.06-.94-.94-2.06-.94 2.06-2.06.94z\"/><path d=\"M17.41 7.96l-1.37-1.37c-.4-.4-.92-.59-1.43-.59-.52 0-1.04.2-1.43.59L10.3 9.45l-7.72 7.72c-.78.78-.78 2.05 0 2.83L4 21.41c.39.39.9.59 1.41.59.51 0 1.02-.2 1.41-.59l7.78-7.78 2.81-2.81c.8-.78.8-2.07 0-2.86zM5.41 20L4 18.59l7.72-7.72 1.47 1.35L5.41 20z\"/>\n",
              "  </svg>\n",
              "      </button>\n",
              "\n",
              "\n",
              "\n",
              "    <div id=\"df-0a3ee777-b897-41da-9eb2-dc33d846cd39\">\n",
              "      <button class=\"colab-df-quickchart\" onclick=\"quickchart('df-0a3ee777-b897-41da-9eb2-dc33d846cd39')\"\n",
              "              title=\"Suggest charts.\"\n",
              "              style=\"display:none;\">\n",
              "\n",
              "<svg xmlns=\"http://www.w3.org/2000/svg\" height=\"24px\"viewBox=\"0 0 24 24\"\n",
              "     width=\"24px\">\n",
              "    <g>\n",
              "        <path d=\"M19 3H5c-1.1 0-2 .9-2 2v14c0 1.1.9 2 2 2h14c1.1 0 2-.9 2-2V5c0-1.1-.9-2-2-2zM9 17H7v-7h2v7zm4 0h-2V7h2v10zm4 0h-2v-4h2v4z\"/>\n",
              "    </g>\n",
              "</svg>\n",
              "      </button>\n",
              "    </div>\n",
              "\n",
              "<style>\n",
              "  .colab-df-quickchart {\n",
              "    background-color: #E8F0FE;\n",
              "    border: none;\n",
              "    border-radius: 50%;\n",
              "    cursor: pointer;\n",
              "    display: none;\n",
              "    fill: #1967D2;\n",
              "    height: 32px;\n",
              "    padding: 0 0 0 0;\n",
              "    width: 32px;\n",
              "  }\n",
              "\n",
              "  .colab-df-quickchart:hover {\n",
              "    background-color: #E2EBFA;\n",
              "    box-shadow: 0px 1px 2px rgba(60, 64, 67, 0.3), 0px 1px 3px 1px rgba(60, 64, 67, 0.15);\n",
              "    fill: #174EA6;\n",
              "  }\n",
              "\n",
              "  [theme=dark] .colab-df-quickchart {\n",
              "    background-color: #3B4455;\n",
              "    fill: #D2E3FC;\n",
              "  }\n",
              "\n",
              "  [theme=dark] .colab-df-quickchart:hover {\n",
              "    background-color: #434B5C;\n",
              "    box-shadow: 0px 1px 3px 1px rgba(0, 0, 0, 0.15);\n",
              "    filter: drop-shadow(0px 1px 2px rgba(0, 0, 0, 0.3));\n",
              "    fill: #FFFFFF;\n",
              "  }\n",
              "</style>\n",
              "\n",
              "    <script>\n",
              "      async function quickchart(key) {\n",
              "        const containerElement = document.querySelector('#' + key);\n",
              "        const charts = await google.colab.kernel.invokeFunction(\n",
              "            'suggestCharts', [key], {});\n",
              "      }\n",
              "    </script>\n",
              "\n",
              "      <script>\n",
              "\n",
              "function displayQuickchartButton(domScope) {\n",
              "  let quickchartButtonEl =\n",
              "    domScope.querySelector('#df-0a3ee777-b897-41da-9eb2-dc33d846cd39 button.colab-df-quickchart');\n",
              "  quickchartButtonEl.style.display =\n",
              "    google.colab.kernel.accessAllowed ? 'block' : 'none';\n",
              "}\n",
              "\n",
              "        displayQuickchartButton(document);\n",
              "      </script>\n",
              "      <style>\n",
              "    .colab-df-container {\n",
              "      display:flex;\n",
              "      flex-wrap:wrap;\n",
              "      gap: 12px;\n",
              "    }\n",
              "\n",
              "    .colab-df-convert {\n",
              "      background-color: #E8F0FE;\n",
              "      border: none;\n",
              "      border-radius: 50%;\n",
              "      cursor: pointer;\n",
              "      display: none;\n",
              "      fill: #1967D2;\n",
              "      height: 32px;\n",
              "      padding: 0 0 0 0;\n",
              "      width: 32px;\n",
              "    }\n",
              "\n",
              "    .colab-df-convert:hover {\n",
              "      background-color: #E2EBFA;\n",
              "      box-shadow: 0px 1px 2px rgba(60, 64, 67, 0.3), 0px 1px 3px 1px rgba(60, 64, 67, 0.15);\n",
              "      fill: #174EA6;\n",
              "    }\n",
              "\n",
              "    [theme=dark] .colab-df-convert {\n",
              "      background-color: #3B4455;\n",
              "      fill: #D2E3FC;\n",
              "    }\n",
              "\n",
              "    [theme=dark] .colab-df-convert:hover {\n",
              "      background-color: #434B5C;\n",
              "      box-shadow: 0px 1px 3px 1px rgba(0, 0, 0, 0.15);\n",
              "      filter: drop-shadow(0px 1px 2px rgba(0, 0, 0, 0.3));\n",
              "      fill: #FFFFFF;\n",
              "    }\n",
              "  </style>\n",
              "\n",
              "      <script>\n",
              "        const buttonEl =\n",
              "          document.querySelector('#df-9dd9217f-634a-418e-b280-cf548b16b6fe button.colab-df-convert');\n",
              "        buttonEl.style.display =\n",
              "          google.colab.kernel.accessAllowed ? 'block' : 'none';\n",
              "\n",
              "        async function convertToInteractive(key) {\n",
              "          const element = document.querySelector('#df-9dd9217f-634a-418e-b280-cf548b16b6fe');\n",
              "          const dataTable =\n",
              "            await google.colab.kernel.invokeFunction('convertToInteractive',\n",
              "                                                     [key], {});\n",
              "          if (!dataTable) return;\n",
              "\n",
              "          const docLinkHtml = 'Like what you see? Visit the ' +\n",
              "            '<a target=\"_blank\" href=https://colab.research.google.com/notebooks/data_table.ipynb>data table notebook</a>'\n",
              "            + ' to learn more about interactive tables.';\n",
              "          element.innerHTML = '';\n",
              "          dataTable['output_type'] = 'display_data';\n",
              "          await google.colab.output.renderOutput(dataTable, element);\n",
              "          const docLink = document.createElement('div');\n",
              "          docLink.innerHTML = docLinkHtml;\n",
              "          element.appendChild(docLink);\n",
              "        }\n",
              "      </script>\n",
              "    </div>\n",
              "  </div>\n"
            ]
          },
          "metadata": {},
          "execution_count": 12
        }
      ]
    },
    {
      "cell_type": "code",
      "source": [
        "df.shape"
      ],
      "metadata": {
        "colab": {
          "base_uri": "https://localhost:8080/"
        },
        "id": "fGTZIW-j2oi5",
        "outputId": "105f060c-3124-498a-abb3-828fe05e2494"
      },
      "execution_count": 44,
      "outputs": [
        {
          "output_type": "execute_result",
          "data": {
            "text/plain": [
              "(832305, 3)"
            ]
          },
          "metadata": {},
          "execution_count": 44
        }
      ]
    },
    {
      "cell_type": "markdown",
      "source": [
        "Shuffle data"
      ],
      "metadata": {
        "id": "H-38GxfFbIp1"
      }
    },
    {
      "cell_type": "code",
      "source": [
        "df = df.reindex(np.random.permutation(df.index)).reset_index(drop=True)"
      ],
      "metadata": {
        "id": "2o_jVfIVb0rV"
      },
      "execution_count": 13,
      "outputs": []
    },
    {
      "cell_type": "code",
      "source": [
        "df[:2]"
      ],
      "metadata": {
        "id": "f80keK4lb0vb",
        "colab": {
          "base_uri": "https://localhost:8080/",
          "height": 112
        },
        "outputId": "735729e6-6065-4d17-9db9-d2dbe3cc72f7"
      },
      "execution_count": 23,
      "outputs": [
        {
          "output_type": "execute_result",
          "data": {
            "text/plain": [
              "  lang                                               text\n",
              "0   bg  Ð Ð¼Ð¾Ð¼ÐµÐ½ÑÐ° ÑÐµÐºÐ°Ñ ÑÐ°Ð·Ð¸ÑÐºÐ²Ð°Ð...\n",
              "1   pl  jeÅli chodzi o daphne (ochrona dzieci, kobiet..."
            ],
            "text/html": [
              "\n",
              "\n",
              "  <div id=\"df-1cae2029-bb0d-41bb-b191-0af31e830aa8\">\n",
              "    <div class=\"colab-df-container\">\n",
              "      <div>\n",
              "<style scoped>\n",
              "    .dataframe tbody tr th:only-of-type {\n",
              "        vertical-align: middle;\n",
              "    }\n",
              "\n",
              "    .dataframe tbody tr th {\n",
              "        vertical-align: top;\n",
              "    }\n",
              "\n",
              "    .dataframe thead th {\n",
              "        text-align: right;\n",
              "    }\n",
              "</style>\n",
              "<table border=\"1\" class=\"dataframe\">\n",
              "  <thead>\n",
              "    <tr style=\"text-align: right;\">\n",
              "      <th></th>\n",
              "      <th>lang</th>\n",
              "      <th>text</th>\n",
              "    </tr>\n",
              "  </thead>\n",
              "  <tbody>\n",
              "    <tr>\n",
              "      <th>0</th>\n",
              "      <td>bg</td>\n",
              "      <td>Ð Ð¼Ð¾Ð¼ÐµÐ½ÑÐ° ÑÐµÐºÐ°Ñ ÑÐ°Ð·Ð¸ÑÐºÐ²Ð°Ð...</td>\n",
              "    </tr>\n",
              "    <tr>\n",
              "      <th>1</th>\n",
              "      <td>pl</td>\n",
              "      <td>jeÅli chodzi o daphne (ochrona dzieci, kobiet...</td>\n",
              "    </tr>\n",
              "  </tbody>\n",
              "</table>\n",
              "</div>\n",
              "      <button class=\"colab-df-convert\" onclick=\"convertToInteractive('df-1cae2029-bb0d-41bb-b191-0af31e830aa8')\"\n",
              "              title=\"Convert this dataframe to an interactive table.\"\n",
              "              style=\"display:none;\">\n",
              "\n",
              "  <svg xmlns=\"http://www.w3.org/2000/svg\" height=\"24px\"viewBox=\"0 0 24 24\"\n",
              "       width=\"24px\">\n",
              "    <path d=\"M0 0h24v24H0V0z\" fill=\"none\"/>\n",
              "    <path d=\"M18.56 5.44l.94 2.06.94-2.06 2.06-.94-2.06-.94-.94-2.06-.94 2.06-2.06.94zm-11 1L8.5 8.5l.94-2.06 2.06-.94-2.06-.94L8.5 2.5l-.94 2.06-2.06.94zm10 10l.94 2.06.94-2.06 2.06-.94-2.06-.94-.94-2.06-.94 2.06-2.06.94z\"/><path d=\"M17.41 7.96l-1.37-1.37c-.4-.4-.92-.59-1.43-.59-.52 0-1.04.2-1.43.59L10.3 9.45l-7.72 7.72c-.78.78-.78 2.05 0 2.83L4 21.41c.39.39.9.59 1.41.59.51 0 1.02-.2 1.41-.59l7.78-7.78 2.81-2.81c.8-.78.8-2.07 0-2.86zM5.41 20L4 18.59l7.72-7.72 1.47 1.35L5.41 20z\"/>\n",
              "  </svg>\n",
              "      </button>\n",
              "\n",
              "\n",
              "\n",
              "    <div id=\"df-bc131774-e6c1-4e1f-8267-3edd2687a8f5\">\n",
              "      <button class=\"colab-df-quickchart\" onclick=\"quickchart('df-bc131774-e6c1-4e1f-8267-3edd2687a8f5')\"\n",
              "              title=\"Suggest charts.\"\n",
              "              style=\"display:none;\">\n",
              "\n",
              "<svg xmlns=\"http://www.w3.org/2000/svg\" height=\"24px\"viewBox=\"0 0 24 24\"\n",
              "     width=\"24px\">\n",
              "    <g>\n",
              "        <path d=\"M19 3H5c-1.1 0-2 .9-2 2v14c0 1.1.9 2 2 2h14c1.1 0 2-.9 2-2V5c0-1.1-.9-2-2-2zM9 17H7v-7h2v7zm4 0h-2V7h2v10zm4 0h-2v-4h2v4z\"/>\n",
              "    </g>\n",
              "</svg>\n",
              "      </button>\n",
              "    </div>\n",
              "\n",
              "<style>\n",
              "  .colab-df-quickchart {\n",
              "    background-color: #E8F0FE;\n",
              "    border: none;\n",
              "    border-radius: 50%;\n",
              "    cursor: pointer;\n",
              "    display: none;\n",
              "    fill: #1967D2;\n",
              "    height: 32px;\n",
              "    padding: 0 0 0 0;\n",
              "    width: 32px;\n",
              "  }\n",
              "\n",
              "  .colab-df-quickchart:hover {\n",
              "    background-color: #E2EBFA;\n",
              "    box-shadow: 0px 1px 2px rgba(60, 64, 67, 0.3), 0px 1px 3px 1px rgba(60, 64, 67, 0.15);\n",
              "    fill: #174EA6;\n",
              "  }\n",
              "\n",
              "  [theme=dark] .colab-df-quickchart {\n",
              "    background-color: #3B4455;\n",
              "    fill: #D2E3FC;\n",
              "  }\n",
              "\n",
              "  [theme=dark] .colab-df-quickchart:hover {\n",
              "    background-color: #434B5C;\n",
              "    box-shadow: 0px 1px 3px 1px rgba(0, 0, 0, 0.15);\n",
              "    filter: drop-shadow(0px 1px 2px rgba(0, 0, 0, 0.3));\n",
              "    fill: #FFFFFF;\n",
              "  }\n",
              "</style>\n",
              "\n",
              "    <script>\n",
              "      async function quickchart(key) {\n",
              "        const containerElement = document.querySelector('#' + key);\n",
              "        const charts = await google.colab.kernel.invokeFunction(\n",
              "            'suggestCharts', [key], {});\n",
              "      }\n",
              "    </script>\n",
              "\n",
              "      <script>\n",
              "\n",
              "function displayQuickchartButton(domScope) {\n",
              "  let quickchartButtonEl =\n",
              "    domScope.querySelector('#df-bc131774-e6c1-4e1f-8267-3edd2687a8f5 button.colab-df-quickchart');\n",
              "  quickchartButtonEl.style.display =\n",
              "    google.colab.kernel.accessAllowed ? 'block' : 'none';\n",
              "}\n",
              "\n",
              "        displayQuickchartButton(document);\n",
              "      </script>\n",
              "      <style>\n",
              "    .colab-df-container {\n",
              "      display:flex;\n",
              "      flex-wrap:wrap;\n",
              "      gap: 12px;\n",
              "    }\n",
              "\n",
              "    .colab-df-convert {\n",
              "      background-color: #E8F0FE;\n",
              "      border: none;\n",
              "      border-radius: 50%;\n",
              "      cursor: pointer;\n",
              "      display: none;\n",
              "      fill: #1967D2;\n",
              "      height: 32px;\n",
              "      padding: 0 0 0 0;\n",
              "      width: 32px;\n",
              "    }\n",
              "\n",
              "    .colab-df-convert:hover {\n",
              "      background-color: #E2EBFA;\n",
              "      box-shadow: 0px 1px 2px rgba(60, 64, 67, 0.3), 0px 1px 3px 1px rgba(60, 64, 67, 0.15);\n",
              "      fill: #174EA6;\n",
              "    }\n",
              "\n",
              "    [theme=dark] .colab-df-convert {\n",
              "      background-color: #3B4455;\n",
              "      fill: #D2E3FC;\n",
              "    }\n",
              "\n",
              "    [theme=dark] .colab-df-convert:hover {\n",
              "      background-color: #434B5C;\n",
              "      box-shadow: 0px 1px 3px 1px rgba(0, 0, 0, 0.15);\n",
              "      filter: drop-shadow(0px 1px 2px rgba(0, 0, 0, 0.3));\n",
              "      fill: #FFFFFF;\n",
              "    }\n",
              "  </style>\n",
              "\n",
              "      <script>\n",
              "        const buttonEl =\n",
              "          document.querySelector('#df-1cae2029-bb0d-41bb-b191-0af31e830aa8 button.colab-df-convert');\n",
              "        buttonEl.style.display =\n",
              "          google.colab.kernel.accessAllowed ? 'block' : 'none';\n",
              "\n",
              "        async function convertToInteractive(key) {\n",
              "          const element = document.querySelector('#df-1cae2029-bb0d-41bb-b191-0af31e830aa8');\n",
              "          const dataTable =\n",
              "            await google.colab.kernel.invokeFunction('convertToInteractive',\n",
              "                                                     [key], {});\n",
              "          if (!dataTable) return;\n",
              "\n",
              "          const docLinkHtml = 'Like what you see? Visit the ' +\n",
              "            '<a target=\"_blank\" href=https://colab.research.google.com/notebooks/data_table.ipynb>data table notebook</a>'\n",
              "            + ' to learn more about interactive tables.';\n",
              "          element.innerHTML = '';\n",
              "          dataTable['output_type'] = 'display_data';\n",
              "          await google.colab.output.renderOutput(dataTable, element);\n",
              "          const docLink = document.createElement('div');\n",
              "          docLink.innerHTML = docLinkHtml;\n",
              "          element.appendChild(docLink);\n",
              "        }\n",
              "      </script>\n",
              "    </div>\n",
              "  </div>\n"
            ]
          },
          "metadata": {},
          "execution_count": 23
        }
      ]
    },
    {
      "cell_type": "markdown",
      "source": [
        "Data normalization and label formatting."
      ],
      "metadata": {
        "id": "oteV-kARarms"
      }
    },
    {
      "cell_type": "code",
      "source": [
        "def normalize_text(row):\n",
        "\n",
        "    label = '__label__' + str(row['lang'])\n",
        "    txt = str(row['text'])\n",
        "\n",
        "    return ' '.join(( label + ' , ' + txt ).split())"
      ],
      "metadata": {
        "id": "BmiE5qOeaVae"
      },
      "execution_count": 41,
      "outputs": []
    },
    {
      "cell_type": "code",
      "source": [
        "df['normalized'] = df.apply( lambda row: normalize_text(row), axis=1 )"
      ],
      "metadata": {
        "id": "NsG6INKVaVdw"
      },
      "execution_count": 42,
      "outputs": []
    },
    {
      "cell_type": "code",
      "source": [
        "df['normalized'].head(2)"
      ],
      "metadata": {
        "colab": {
          "base_uri": "https://localhost:8080/"
        },
        "id": "z8N6D8bJ2ie9",
        "outputId": "d8bf0760-34e9-4afd-87b1-c8faa7545247"
      },
      "execution_count": 43,
      "outputs": [
        {
          "output_type": "execute_result",
          "data": {
            "text/plain": [
              "0    __label__bg , Ð Ð¼Ð¾Ð¼ÐµÐ½ÑÐ° ÑÐµÐºÐ°Ñ ÑÐ...\n",
              "1    __label__pl , jeÅli chodzi o daphne (ochrona ...\n",
              "Name: normalized, dtype: object"
            ]
          },
          "metadata": {},
          "execution_count": 43
        }
      ]
    },
    {
      "cell_type": "markdown",
      "source": [
        "Split the data into 75% train and 25% test"
      ],
      "metadata": {
        "id": "zaYdbggtab2l"
      }
    },
    {
      "cell_type": "code",
      "source": [
        "split = math.floor(len(df)* 0.75)\n",
        "train = df['normalized'][:split].copy()\n",
        "test = df['normalized'][split:].copy()"
      ],
      "metadata": {
        "id": "az0UcZg0aVgC"
      },
      "execution_count": 50,
      "outputs": []
    },
    {
      "cell_type": "code",
      "source": [
        "np.savetxt('/content/europarl.train', train.values, fmt=\"%s\")\n",
        "np.savetxt('/content/europarl.eval', test.values, fmt=\"%s\")"
      ],
      "metadata": {
        "id": "PqnPXZXMaVjA"
      },
      "execution_count": 52,
      "outputs": []
    },
    {
      "cell_type": "markdown",
      "source": [
        "\n",
        "**Using Fasttext to train the model**"
      ],
      "metadata": {
        "id": "-FByyMy1qNnd"
      }
    },
    {
      "cell_type": "code",
      "source": [
        "!git clone https://github.com/facebookresearch/fastText.git"
      ],
      "metadata": {
        "id": "XSiVsXP3EnB9",
        "colab": {
          "base_uri": "https://localhost:8080/"
        },
        "outputId": "f3828d33-1f77-4ced-e836-1df53e0a174f"
      },
      "execution_count": 2,
      "outputs": [
        {
          "output_type": "stream",
          "name": "stdout",
          "text": [
            "Cloning into 'fastText'...\n",
            "remote: Enumerating objects: 3946, done.\u001b[K\n",
            "remote: Counting objects: 100% (1005/1005), done.\u001b[K\n",
            "remote: Compressing objects: 100% (153/153), done.\u001b[K\n",
            "remote: Total 3946 (delta 904), reused 862 (delta 851), pack-reused 2941\u001b[K\n",
            "Receiving objects: 100% (3946/3946), 8.26 MiB | 33.54 MiB/s, done.\n",
            "Resolving deltas: 100% (2511/2511), done.\n"
          ]
        }
      ]
    },
    {
      "cell_type": "code",
      "source": [
        "%%bash\n",
        "cd fastText/\n",
        "make"
      ],
      "metadata": {
        "id": "GRqrd4U9EnF_",
        "colab": {
          "base_uri": "https://localhost:8080/"
        },
        "outputId": "8b4a480f-f304-4b73-ee2c-72080a21cb81"
      },
      "execution_count": 3,
      "outputs": [
        {
          "output_type": "stream",
          "name": "stdout",
          "text": [
            "c++ -pthread -std=c++11 -march=native -O3 -funroll-loops -DNDEBUG -c src/args.cc\n",
            "c++ -pthread -std=c++11 -march=native -O3 -funroll-loops -DNDEBUG -c src/autotune.cc\n",
            "c++ -pthread -std=c++11 -march=native -O3 -funroll-loops -DNDEBUG -c src/matrix.cc\n",
            "c++ -pthread -std=c++11 -march=native -O3 -funroll-loops -DNDEBUG -c src/dictionary.cc\n",
            "c++ -pthread -std=c++11 -march=native -O3 -funroll-loops -DNDEBUG -c src/loss.cc\n",
            "c++ -pthread -std=c++11 -march=native -O3 -funroll-loops -DNDEBUG -c src/productquantizer.cc\n",
            "c++ -pthread -std=c++11 -march=native -O3 -funroll-loops -DNDEBUG -c src/densematrix.cc\n",
            "c++ -pthread -std=c++11 -march=native -O3 -funroll-loops -DNDEBUG -c src/quantmatrix.cc\n",
            "c++ -pthread -std=c++11 -march=native -O3 -funroll-loops -DNDEBUG -c src/vector.cc\n",
            "c++ -pthread -std=c++11 -march=native -O3 -funroll-loops -DNDEBUG -c src/model.cc\n",
            "c++ -pthread -std=c++11 -march=native -O3 -funroll-loops -DNDEBUG -c src/utils.cc\n",
            "c++ -pthread -std=c++11 -march=native -O3 -funroll-loops -DNDEBUG -c src/meter.cc\n",
            "c++ -pthread -std=c++11 -march=native -O3 -funroll-loops -DNDEBUG -c src/fasttext.cc\n",
            "c++ -pthread -std=c++11 -march=native -O3 -funroll-loops -DNDEBUG args.o autotune.o matrix.o dictionary.o loss.o productquantizer.o densematrix.o quantmatrix.o vector.o model.o utils.o meter.o fasttext.o src/main.cc -o fasttext\n"
          ]
        }
      ]
    },
    {
      "cell_type": "code",
      "source": [
        "%%bash\n",
        "mkdir -p model"
      ],
      "metadata": {
        "id": "75W6Fo69EnLQ"
      },
      "execution_count": 4,
      "outputs": []
    },
    {
      "cell_type": "code",
      "source": [
        "%%bash\n",
        "/content/fastText/fasttext supervised -input /content/europarl.train -output /content/model/europarl"
      ],
      "metadata": {
        "colab": {
          "base_uri": "https://localhost:8080/"
        },
        "id": "8sxVK4x55ovf",
        "outputId": "4758c49a-89aa-45c0-f8d0-3b85b1c71dde"
      },
      "execution_count": 30,
      "outputs": [
        {
          "output_type": "stream",
          "name": "stderr",
          "text": [
            "\rRead 1M words\rRead 2M words\rRead 3M words\rRead 4M words\rRead 5M words\rRead 6M words\rRead 7M words\rRead 8M words\rRead 9M words\rRead 10M words\rRead 11M words\rRead 12M words\rRead 13M words\rRead 14M words\rRead 15M words\rRead 16M words\rRead 17M words\rRead 18M words\rRead 19M words\rRead 20M words\rRead 21M words\rRead 22M words\rRead 23M words\rRead 24M words\rRead 25M words\rRead 26M words\rRead 27M words\rRead 28M words\rRead 29M words\rRead 30M words\rRead 31M words\rRead 32M words\rRead 33M words\rRead 34M words\rRead 35M words\rRead 36M words\rRead 37M words\rRead 37M words\n",
            "Number of words:  1800628\n",
            "Number of labels: 21\n",
            "\rProgress:   0.1% words/sec/thread:  112859 lr:  0.099927 avg.loss:  3.060272 ETA:   0h 2m17s\rProgress:   0.2% words/sec/thread:  122845 lr:  0.099838 avg.loss:  3.060119 ETA:   0h 2m 6s\rProgress:   0.3% words/sec/thread:  136572 lr:  0.099732 avg.loss:  3.035014 ETA:   0h 1m53s\rProgress:   0.4% words/sec/thread:  159491 lr:  0.099584 avg.loss:  2.825322 ETA:   0h 1m37s\rProgress:   0.6% words/sec/thread:  173613 lr:  0.099435 avg.loss:  2.577984 ETA:   0h 1m29s\rProgress:   0.7% words/sec/thread:  182138 lr:  0.099290 avg.loss:  2.285537 ETA:   0h 1m24s\rProgress:   0.9% words/sec/thread:  188699 lr:  0.099143 avg.loss:  2.031209 ETA:   0h 1m21s\rProgress:   1.0% words/sec/thread:  195433 lr:  0.098986 avg.loss:  1.806703 ETA:   0h 1m18s\rProgress:   1.2% words/sec/thread:  201090 lr:  0.098827 avg.loss:  1.631357 ETA:   0h 1m16s\rProgress:   1.3% words/sec/thread:  204359 lr:  0.098677 avg.loss:  1.473170 ETA:   0h 1m15s\rProgress:   1.5% words/sec/thread:  206630 lr:  0.098529 avg.loss:  1.339145 ETA:   0h 1m14s\rProgress:   1.6% words/sec/thread:  209574 lr:  0.098373 avg.loss:  1.222217 ETA:   0h 1m12s\rProgress:   1.7% words/sec/thread:  207986 lr:  0.098251 avg.loss:  1.153020 ETA:   0h 1m13s\rProgress:   1.9% words/sec/thread:  209002 lr:  0.098108 avg.loss:  1.087297 ETA:   0h 1m12s\rProgress:   2.0% words/sec/thread:  209613 lr:  0.097967 avg.loss:  1.029856 ETA:   0h 1m12s\rProgress:   2.2% words/sec/thread:  210047 lr:  0.097828 avg.loss:  0.981259 ETA:   0h 1m12s\rProgress:   2.3% words/sec/thread:  211080 lr:  0.097681 avg.loss:  0.937693 ETA:   0h 1m11s\rProgress:   2.5% words/sec/thread:  211825 lr:  0.097537 avg.loss:  0.889417 ETA:   0h 1m11s\rProgress:   2.6% words/sec/thread:  213119 lr:  0.097384 avg.loss:  0.846666 ETA:   0h 1m11s\rProgress:   2.8% words/sec/thread:  214242 lr:  0.097232 avg.loss:  0.804201 ETA:   0h 1m10s\rProgress:   2.9% words/sec/thread:  215752 lr:  0.097074 avg.loss:  0.759800 ETA:   0h 1m 9s\rProgress:   3.1% words/sec/thread:  216993 lr:  0.096917 avg.loss:  0.733665 ETA:   0h 1m 9s\rProgress:   3.2% words/sec/thread:  217751 lr:  0.096766 avg.loss:  0.700613 ETA:   0h 1m 9s\rProgress:   3.4% words/sec/thread:  218117 lr:  0.096620 avg.loss:  0.680407 ETA:   0h 1m 8s\rProgress:   3.5% words/sec/thread:  218864 lr:  0.096468 avg.loss:  0.658113 ETA:   0h 1m 8s\rProgress:   3.7% words/sec/thread:  219529 lr:  0.096316 avg.loss:  0.638347 ETA:   0h 1m 8s\rProgress:   3.8% words/sec/thread:  220604 lr:  0.096156 avg.loss:  0.621249 ETA:   0h 1m 7s\rProgress:   4.0% words/sec/thread:  221185 lr:  0.096003 avg.loss:  0.601770 ETA:   0h 1m 7s\rProgress:   4.2% words/sec/thread:  221930 lr:  0.095847 avg.loss:  0.581645 ETA:   0h 1m 7s\rProgress:   4.3% words/sec/thread:  222303 lr:  0.095696 avg.loss:  0.566933 ETA:   0h 1m 6s\rProgress:   4.5% words/sec/thread:  222582 lr:  0.095548 avg.loss:  0.549512 ETA:   0h 1m 6s\rProgress:   4.6% words/sec/thread:  223017 lr:  0.095395 avg.loss:  0.531360 ETA:   0h 1m 6s\rProgress:   4.8% words/sec/thread:  223287 lr:  0.095246 avg.loss:  0.517942 ETA:   0h 1m 6s\rProgress:   4.9% words/sec/thread:  222517 lr:  0.095119 avg.loss:  0.506233 ETA:   0h 1m 6s\rProgress:   5.0% words/sec/thread:  222397 lr:  0.094978 avg.loss:  0.499128 ETA:   0h 1m 6s\rProgress:   5.2% words/sec/thread:  222430 lr:  0.094834 avg.loss:  0.488661 ETA:   0h 1m 6s\rProgress:   5.3% words/sec/thread:  222288 lr:  0.094694 avg.loss:  0.479754 ETA:   0h 1m 6s\rProgress:   5.4% words/sec/thread:  221496 lr:  0.094571 avg.loss:  0.471167 ETA:   0h 1m 6s\rProgress:   5.6% words/sec/thread:  221766 lr:  0.094421 avg.loss:  0.459798 ETA:   0h 1m 6s\rProgress:   5.7% words/sec/thread:  221063 lr:  0.094296 avg.loss:  0.451389 ETA:   0h 1m 6s\rProgress:   5.8% words/sec/thread:  220860 lr:  0.094159 avg.loss:  0.444247 ETA:   0h 1m 6s\rProgress:   6.0% words/sec/thread:  221079 lr:  0.094011 avg.loss:  0.437699 ETA:   0h 1m 6s\rProgress:   6.1% words/sec/thread:  221457 lr:  0.093858 avg.loss:  0.430195 ETA:   0h 1m 5s\rProgress:   6.3% words/sec/thread:  220985 lr:  0.093729 avg.loss:  0.420924 ETA:   0h 1m 5s\rProgress:   6.4% words/sec/thread:  221097 lr:  0.093583 avg.loss:  0.414438 ETA:   0h 1m 5s\rProgress:   6.5% words/sec/thread:  220559 lr:  0.093456 avg.loss:  0.407325 ETA:   0h 1m 5s\rProgress:   6.7% words/sec/thread:  220644 lr:  0.093311 avg.loss:  0.398180 ETA:   0h 1m 5s\rProgress:   6.8% words/sec/thread:  220911 lr:  0.093161 avg.loss:  0.391153 ETA:   0h 1m 5s\rProgress:   7.0% words/sec/thread:  220873 lr:  0.093020 avg.loss:  0.384456 ETA:   0h 1m 5s\rProgress:   7.1% words/sec/thread:  220433 lr:  0.092890 avg.loss:  0.378162 ETA:   0h 1m 5s\rProgress:   7.3% words/sec/thread:  220663 lr:  0.092740 avg.loss:  0.370891 ETA:   0h 1m 5s\rProgress:   7.4% words/sec/thread:  220873 lr:  0.092591 avg.loss:  0.364959 ETA:   0h 1m 5s\rProgress:   7.6% words/sec/thread:  221108 lr:  0.092440 avg.loss:  0.359974 ETA:   0h 1m 5s\rProgress:   7.7% words/sec/thread:  220797 lr:  0.092309 avg.loss:  0.355742 ETA:   0h 1m 5s\rProgress:   7.8% words/sec/thread:  220459 lr:  0.092179 avg.loss:  0.350352 ETA:   0h 1m 5s\rProgress:   8.0% words/sec/thread:  220493 lr:  0.092035 avg.loss:  0.342366 ETA:   0h 1m 4s\rProgress:   8.1% words/sec/thread:  220142 lr:  0.091906 avg.loss:  0.341066 ETA:   0h 1m 4s\rProgress:   8.2% words/sec/thread:  220169 lr:  0.091761 avg.loss:  0.336927 ETA:   0h 1m 4s\rProgress:   8.4% words/sec/thread:  220400 lr:  0.091611 avg.loss:  0.331513 ETA:   0h 1m 4s\rProgress:   8.5% words/sec/thread:  220380 lr:  0.091469 avg.loss:  0.327532 ETA:   0h 1m 4s\rProgress:   8.7% words/sec/thread:  220433 lr:  0.091325 avg.loss:  0.323049 ETA:   0h 1m 4s\rProgress:   8.8% words/sec/thread:  220514 lr:  0.091180 avg.loss:  0.318857 ETA:   0h 1m 4s\rProgress:   9.0% words/sec/thread:  220554 lr:  0.091036 avg.loss:  0.314798 ETA:   0h 1m 4s\rProgress:   9.1% words/sec/thread:  220682 lr:  0.090889 avg.loss:  0.311445 ETA:   0h 1m 4s\rProgress:   9.2% words/sec/thread:  220287 lr:  0.090763 avg.loss:  0.307714 ETA:   0h 1m 4s\rProgress:   9.4% words/sec/thread:  220625 lr:  0.090607 avg.loss:  0.303700 ETA:   0h 1m 3s\rProgress:   9.5% words/sec/thread:  220867 lr:  0.090454 avg.loss:  0.300107 ETA:   0h 1m 3s\rProgress:   9.7% words/sec/thread:  221359 lr:  0.090290 avg.loss:  0.296187 ETA:   0h 1m 3s\rProgress:   9.9% words/sec/thread:  221788 lr:  0.090128 avg.loss:  0.292766 ETA:   0h 1m 3s\rProgress:  10.0% words/sec/thread:  222026 lr:  0.089975 avg.loss:  0.290007 ETA:   0h 1m 3s\rProgress:  10.2% words/sec/thread:  222276 lr:  0.089820 avg.loss:  0.287125 ETA:   0h 1m 2s\rProgress:  10.3% words/sec/thread:  222707 lr:  0.089657 avg.loss:  0.285571 ETA:   0h 1m 2s\rProgress:  10.5% words/sec/thread:  222711 lr:  0.089514 avg.loss:  0.281791 ETA:   0h 1m 2s\rProgress:  10.6% words/sec/thread:  223060 lr:  0.089353 avg.loss:  0.278602 ETA:   0h 1m 2s\rProgress:  10.8% words/sec/thread:  222287 lr:  0.089247 avg.loss:  0.276242 ETA:   0h 1m 2s\rProgress:  10.9% words/sec/thread:  222437 lr:  0.089096 avg.loss:  0.272708 ETA:   0h 1m 2s\rProgress:  11.1% words/sec/thread:  222672 lr:  0.088941 avg.loss:  0.269888 ETA:   0h 1m 2s\rProgress:  11.2% words/sec/thread:  222955 lr:  0.088783 avg.loss:  0.267680 ETA:   0h 1m 1s\rProgress:  11.4% words/sec/thread:  223114 lr:  0.088631 avg.loss:  0.263879 ETA:   0h 1m 1s\rProgress:  11.5% words/sec/thread:  223286 lr:  0.088479 avg.loss:  0.261880 ETA:   0h 1m 1s\rProgress:  11.7% words/sec/thread:  223412 lr:  0.088328 avg.loss:  0.258837 ETA:   0h 1m 1s\rProgress:  11.8% words/sec/thread:  223397 lr:  0.088185 avg.loss:  0.257285 ETA:   0h 1m 1s\rProgress:  12.0% words/sec/thread:  223516 lr:  0.088035 avg.loss:  0.254704 ETA:   0h 1m 1s\rProgress:  12.1% words/sec/thread:  223637 lr:  0.087884 avg.loss:  0.252267 ETA:   0h 1m 1s\rProgress:  12.2% words/sec/thread:  223425 lr:  0.087751 avg.loss:  0.250197 ETA:   0h 1m 1s\rProgress:  12.4% words/sec/thread:  223219 lr:  0.087618 avg.loss:  0.247333 ETA:   0h 1m 1s\rProgress:  12.5% words/sec/thread:  223319 lr:  0.087469 avg.loss:  0.244272 ETA:   0h 1m 0s\rProgress:  12.7% words/sec/thread:  223404 lr:  0.087320 avg.loss:  0.241624 ETA:   0h 1m 0s\rProgress:  12.8% words/sec/thread:  223486 lr:  0.087171 avg.loss:  0.239217 ETA:   0h 1m 0s\rProgress:  13.0% words/sec/thread:  223457 lr:  0.087029 avg.loss:  0.237592 ETA:   0h 1m 0s\rProgress:  13.1% words/sec/thread:  223587 lr:  0.086878 avg.loss:  0.236525 ETA:   0h 1m 0s\rProgress:  13.3% words/sec/thread:  223699 lr:  0.086727 avg.loss:  0.234436 ETA:   0h 1m 0s\rProgress:  13.4% words/sec/thread:  223761 lr:  0.086579 avg.loss:  0.232218 ETA:   0h 1m 0s\rProgress:  13.6% words/sec/thread:  223747 lr:  0.086436 avg.loss:  0.230845 ETA:   0h 1m 0s\rProgress:  13.7% words/sec/thread:  223360 lr:  0.086315 avg.loss:  0.229450 ETA:   0h 1m 0s\rProgress:  13.8% words/sec/thread:  223020 lr:  0.086193 avg.loss:  0.227992 ETA:   0h 1m 0s\rProgress:  13.9% words/sec/thread:  222836 lr:  0.086060 avg.loss:  0.226180 ETA:   0h 1m 0s\rProgress:  14.1% words/sec/thread:  222621 lr:  0.085930 avg.loss:  0.225230 ETA:   0h 1m 0s\rProgress:  14.2% words/sec/thread:  222359 lr:  0.085804 avg.loss:  0.223555 ETA:   0h 0m59s\rProgress:  14.3% words/sec/thread:  222057 lr:  0.085680 avg.loss:  0.222102 ETA:   0h 0m59s\rProgress:  14.4% words/sec/thread:  221724 lr:  0.085558 avg.loss:  0.220624 ETA:   0h 0m59s\rProgress:  14.5% words/sec/thread:  220926 lr:  0.085468 avg.loss:  0.219312 ETA:   0h 1m 0s\rProgress:  14.6% words/sec/thread:  219917 lr:  0.085393 avg.loss:  0.218900 ETA:   0h 1m 0s\rProgress:  14.7% words/sec/thread:  218951 lr:  0.085316 avg.loss:  0.217970 ETA:   0h 1m 0s\rProgress:  14.7% words/sec/thread:  217676 lr:  0.085261 avg.loss:  0.217282 ETA:   0h 1m 0s\rProgress:  14.8% words/sec/thread:  216577 lr:  0.085196 avg.loss:  0.216699 ETA:   0h 1m 1s\rProgress:  14.9% words/sec/thread:  215796 lr:  0.085111 avg.loss:  0.216017 ETA:   0h 1m 1s\rProgress:  15.0% words/sec/thread:  214813 lr:  0.085038 avg.loss:  0.215033 ETA:   0h 1m 1s\rProgress:  15.0% words/sec/thread:  213611 lr:  0.084964 avg.loss:  0.214617 ETA:   0h 1m 1s\rProgress:  15.1% words/sec/thread:  212403 lr:  0.084911 avg.loss:  0.213953 ETA:   0h 1m 2s\rProgress:  15.1% words/sec/thread:  211189 lr:  0.084856 avg.loss:  0.213309 ETA:   0h 1m 2s\rProgress:  15.2% words/sec/thread:  210063 lr:  0.084795 avg.loss:  0.212637 ETA:   0h 1m 2s\rProgress:  15.3% words/sec/thread:  209005 lr:  0.084736 avg.loss:  0.212043 ETA:   0h 1m 3s\rProgress:  15.3% words/sec/thread:  207910 lr:  0.084676 avg.loss:  0.211701 ETA:   0h 1m 3s\rProgress:  15.4% words/sec/thread:  207088 lr:  0.084604 avg.loss:  0.211144 ETA:   0h 1m 3s\rProgress:  15.5% words/sec/thread:  206509 lr:  0.084514 avg.loss:  0.209678 ETA:   0h 1m 3s\rProgress:  15.6% words/sec/thread:  205664 lr:  0.084439 avg.loss:  0.209204 ETA:   0h 1m 3s\rProgress:  15.6% words/sec/thread:  204945 lr:  0.084360 avg.loss:  0.208462 ETA:   0h 1m 3s\rProgress:  15.7% words/sec/thread:  203970 lr:  0.084289 avg.loss:  0.207685 ETA:   0h 1m 4s\rProgress:  15.8% words/sec/thread:  203009 lr:  0.084231 avg.loss:  0.207915 ETA:   0h 1m 4s\rProgress:  15.8% words/sec/thread:  202083 lr:  0.084171 avg.loss:  0.207279 ETA:   0h 1m 4s\rProgress:  15.9% words/sec/thread:  201223 lr:  0.084108 avg.loss:  0.206773 ETA:   0h 1m 4s\rProgress:  16.0% words/sec/thread:  200505 lr:  0.084036 avg.loss:  0.205955 ETA:   0h 1m 5s\rProgress:  16.0% words/sec/thread:  199912 lr:  0.083954 avg.loss:  0.205415 ETA:   0h 1m 5s\rProgress:  16.1% words/sec/thread:  199468 lr:  0.083854 avg.loss:  0.204085 ETA:   0h 1m 5s\rProgress:  16.2% words/sec/thread:  198888 lr:  0.083773 avg.loss:  0.203352 ETA:   0h 1m 5s\rProgress:  16.3% words/sec/thread:  198143 lr:  0.083706 avg.loss:  0.202754 ETA:   0h 1m 5s\rProgress:  16.4% words/sec/thread:  197757 lr:  0.083605 avg.loss:  0.201755 ETA:   0h 1m 5s\rProgress:  16.5% words/sec/thread:  196930 lr:  0.083543 avg.loss:  0.201457 ETA:   0h 1m 5s\rProgress:  16.5% words/sec/thread:  196214 lr:  0.083469 avg.loss:  0.200580 ETA:   0h 1m 6s\rProgress:  16.6% words/sec/thread:  195934 lr:  0.083353 avg.loss:  0.200070 ETA:   0h 1m 6s\rProgress:  16.8% words/sec/thread:  196140 lr:  0.083210 avg.loss:  0.198884 ETA:   0h 1m 5s\rProgress:  16.9% words/sec/thread:  196304 lr:  0.083069 avg.loss:  0.197873 ETA:   0h 1m 5s\rProgress:  17.1% words/sec/thread:  196487 lr:  0.082927 avg.loss:  0.196699 ETA:   0h 1m 5s\rProgress:  17.2% words/sec/thread:  196452 lr:  0.082803 avg.loss:  0.195761 ETA:   0h 1m 5s\rProgress:  17.3% words/sec/thread:  196497 lr:  0.082673 avg.loss:  0.194243 ETA:   0h 1m 5s\rProgress:  17.4% words/sec/thread:  196451 lr:  0.082550 avg.loss:  0.193509 ETA:   0h 1m 5s\rProgress:  17.6% words/sec/thread:  196633 lr:  0.082408 avg.loss:  0.192571 ETA:   0h 1m 5s\rProgress:  17.7% words/sec/thread:  196718 lr:  0.082273 avg.loss:  0.191908 ETA:   0h 1m 5s\rProgress:  17.8% words/sec/thread:  196558 lr:  0.082161 avg.loss:  0.191040 ETA:   0h 1m 4s\rProgress:  18.0% words/sec/thread:  196615 lr:  0.082029 avg.loss:  0.190155 ETA:   0h 1m 4s\rProgress:  18.1% words/sec/thread:  196602 lr:  0.081904 avg.loss:  0.189081 ETA:   0h 1m 4s\rProgress:  18.2% words/sec/thread:  196632 lr:  0.081774 avg.loss:  0.188019 ETA:   0h 1m 4s\rProgress:  18.4% words/sec/thread:  196646 lr:  0.081646 avg.loss:  0.187206 ETA:   0h 1m 4s\rProgress:  18.5% words/sec/thread:  196670 lr:  0.081517 avg.loss:  0.186559 ETA:   0h 1m 4s\rProgress:  18.6% words/sec/thread:  196769 lr:  0.081382 avg.loss:  0.185949 ETA:   0h 1m 4s\rProgress:  18.8% words/sec/thread:  196940 lr:  0.081237 avg.loss:  0.185286 ETA:   0h 1m 4s\rProgress:  18.9% words/sec/thread:  196991 lr:  0.081106 avg.loss:  0.184527 ETA:   0h 1m 4s\rProgress:  19.0% words/sec/thread:  197228 lr:  0.080956 avg.loss:  0.183744 ETA:   0h 1m 3s\rProgress:  19.2% words/sec/thread:  197478 lr:  0.080805 avg.loss:  0.182707 ETA:   0h 1m 3s\rProgress:  19.3% words/sec/thread:  197734 lr:  0.080652 avg.loss:  0.181713 ETA:   0h 1m 3s\rProgress:  19.5% words/sec/thread:  197971 lr:  0.080501 avg.loss:  0.180819 ETA:   0h 1m 3s\rProgress:  19.6% words/sec/thread:  198104 lr:  0.080361 avg.loss:  0.179753 ETA:   0h 1m 3s\rProgress:  19.8% words/sec/thread:  198386 lr:  0.080205 avg.loss:  0.178505 ETA:   0h 1m 2s\rProgress:  19.9% words/sec/thread:  198529 lr:  0.080063 avg.loss:  0.177641 ETA:   0h 1m 2s\rProgress:  20.1% words/sec/thread:  198706 lr:  0.079917 avg.loss:  0.176286 ETA:   0h 1m 2s\rProgress:  20.2% words/sec/thread:  198747 lr:  0.079785 avg.loss:  0.175351 ETA:   0h 1m 2s\rProgress:  20.3% words/sec/thread:  198740 lr:  0.079658 avg.loss:  0.174318 ETA:   0h 1m 2s\rProgress:  20.5% words/sec/thread:  198694 lr:  0.079534 avg.loss:  0.173838 ETA:   0h 1m 2s\rProgress:  20.6% words/sec/thread:  198891 lr:  0.079386 avg.loss:  0.172862 ETA:   0h 1m 2s\rProgress:  20.8% words/sec/thread:  199099 lr:  0.079236 avg.loss:  0.171807 ETA:   0h 1m 1s\rProgress:  20.9% words/sec/thread:  199342 lr:  0.079082 avg.loss:  0.170813 ETA:   0h 1m 1s\rProgress:  21.1% words/sec/thread:  199579 lr:  0.078929 avg.loss:  0.169894 ETA:   0h 1m 1s\rProgress:  21.2% words/sec/thread:  199762 lr:  0.078781 avg.loss:  0.168881 ETA:   0h 1m 1s\rProgress:  21.4% words/sec/thread:  199905 lr:  0.078637 avg.loss:  0.168434 ETA:   0h 1m 1s\rProgress:  21.5% words/sec/thread:  200046 lr:  0.078493 avg.loss:  0.168081 ETA:   0h 1m 1s\rProgress:  21.7% words/sec/thread:  200249 lr:  0.078342 avg.loss:  0.167097 ETA:   0h 1m 0s\rProgress:  21.8% words/sec/thread:  200135 lr:  0.078226 avg.loss:  0.166287 ETA:   0h 1m 0s\rProgress:  21.9% words/sec/thread:  200344 lr:  0.078074 avg.loss:  0.165607 ETA:   0h 1m 0s\rProgress:  22.1% words/sec/thread:  200546 lr:  0.077923 avg.loss:  0.164946 ETA:   0h 1m 0s\rProgress:  22.2% words/sec/thread:  200796 lr:  0.077766 avg.loss:  0.164428 ETA:   0h 1m 0s\rProgress:  22.4% words/sec/thread:  201031 lr:  0.077610 avg.loss:  0.163285 ETA:   0h 1m 0s\rProgress:  22.5% words/sec/thread:  201261 lr:  0.077455 avg.loss:  0.163049 ETA:   0h 0m59s\rProgress:  22.7% words/sec/thread:  201477 lr:  0.077301 avg.loss:  0.162547 ETA:   0h 0m59s\rProgress:  22.8% words/sec/thread:  201548 lr:  0.077163 avg.loss:  0.161590 ETA:   0h 0m59s\rProgress:  23.0% words/sec/thread:  201736 lr:  0.077012 avg.loss:  0.160112 ETA:   0h 0m59s\rProgress:  23.1% words/sec/thread:  201936 lr:  0.076859 avg.loss:  0.158967 ETA:   0h 0m59s\rProgress:  23.3% words/sec/thread:  202064 lr:  0.076709 avg.loss:  0.158204 ETA:   0h 0m59s\rProgress:  23.4% words/sec/thread:  202092 lr:  0.076576 avg.loss:  0.157574 ETA:   0h 0m58s\rProgress:  23.6% words/sec/thread:  202250 lr:  0.076428 avg.loss:  0.156844 ETA:   0h 0m58s\rProgress:  23.7% words/sec/thread:  202428 lr:  0.076277 avg.loss:  0.156067 ETA:   0h 0m58s\rProgress:  23.9% words/sec/thread:  202534 lr:  0.076134 avg.loss:  0.155418 ETA:   0h 0m58s\rProgress:  24.0% words/sec/thread:  202640 lr:  0.075991 avg.loss:  0.155127 ETA:   0h 0m58s\rProgress:  24.2% words/sec/thread:  202745 lr:  0.075848 avg.loss:  0.154292 ETA:   0h 0m58s\rProgress:  24.3% words/sec/thread:  202852 lr:  0.075704 avg.loss:  0.153718 ETA:   0h 0m58s\rProgress:  24.4% words/sec/thread:  203044 lr:  0.075550 avg.loss:  0.153208 ETA:   0h 0m57s\rProgress:  24.6% words/sec/thread:  203210 lr:  0.075400 avg.loss:  0.152506 ETA:   0h 0m57s\rProgress:  24.8% words/sec/thread:  203375 lr:  0.075248 avg.loss:  0.151655 ETA:   0h 0m57s\rProgress:  24.9% words/sec/thread:  203353 lr:  0.075120 avg.loss:  0.151300 ETA:   0h 0m57s\rProgress:  25.0% words/sec/thread:  203507 lr:  0.074970 avg.loss:  0.150877 ETA:   0h 0m57s\rProgress:  25.2% words/sec/thread:  203706 lr:  0.074815 avg.loss:  0.150223 ETA:   0h 0m57s\rProgress:  25.3% words/sec/thread:  203871 lr:  0.074663 avg.loss:  0.149419 ETA:   0h 0m56s\rProgress:  25.5% words/sec/thread:  204053 lr:  0.074509 avg.loss:  0.148971 ETA:   0h 0m56s\rProgress:  25.6% words/sec/thread:  204195 lr:  0.074360 avg.loss:  0.148409 ETA:   0h 0m56s\rProgress:  25.8% words/sec/thread:  204286 lr:  0.074217 avg.loss:  0.147966 ETA:   0h 0m56s\rProgress:  25.9% words/sec/thread:  204377 lr:  0.074073 avg.loss:  0.147436 ETA:   0h 0m56s\rProgress:  26.1% words/sec/thread:  204532 lr:  0.073922 avg.loss:  0.146779 ETA:   0h 0m56s\rProgress:  26.2% words/sec/thread:  204658 lr:  0.073774 avg.loss:  0.146083 ETA:   0h 0m56s\rProgress:  26.4% words/sec/thread:  204615 lr:  0.073648 avg.loss:  0.145440 ETA:   0h 0m55s\rProgress:  26.5% words/sec/thread:  204738 lr:  0.073500 avg.loss:  0.144982 ETA:   0h 0m55s\rProgress:  26.7% words/sec/thread:  204938 lr:  0.073342 avg.loss:  0.144392 ETA:   0h 0m55s\rProgress:  26.8% words/sec/thread:  205100 lr:  0.073189 avg.loss:  0.143929 ETA:   0h 0m55s\rProgress:  26.9% words/sec/thread:  204939 lr:  0.073078 avg.loss:  0.143731 ETA:   0h 0m55s\rProgress:  27.1% words/sec/thread:  205004 lr:  0.072937 avg.loss:  0.143282 ETA:   0h 0m55s\rProgress:  27.2% words/sec/thread:  205088 lr:  0.072794 avg.loss:  0.142915 ETA:   0h 0m55s\rProgress:  27.4% words/sec/thread:  205180 lr:  0.072650 avg.loss:  0.142483 ETA:   0h 0m55s\rProgress:  27.5% words/sec/thread:  205272 lr:  0.072505 avg.loss:  0.142087 ETA:   0h 0m54s\rProgress:  27.6% words/sec/thread:  205408 lr:  0.072355 avg.loss:  0.141902 ETA:   0h 0m54s\rProgress:  27.8% words/sec/thread:  205311 lr:  0.072231 avg.loss:  0.141743 ETA:   0h 0m54s\rProgress:  27.9% words/sec/thread:  205303 lr:  0.072100 avg.loss:  0.141207 ETA:   0h 0m54s\rProgress:  28.1% words/sec/thread:  205489 lr:  0.071942 avg.loss:  0.140461 ETA:   0h 0m54s\rProgress:  28.2% words/sec/thread:  205565 lr:  0.071799 avg.loss:  0.139929 ETA:   0h 0m54s\rProgress:  28.4% words/sec/thread:  205714 lr:  0.071646 avg.loss:  0.139292 ETA:   0h 0m54s\rProgress:  28.5% words/sec/thread:  205798 lr:  0.071502 avg.loss:  0.138902 ETA:   0h 0m54s\rProgress:  28.6% words/sec/thread:  205874 lr:  0.071359 avg.loss:  0.138332 ETA:   0h 0m53s\rProgress:  28.8% words/sec/thread:  206050 lr:  0.071202 avg.loss:  0.137759 ETA:   0h 0m53s\rProgress:  28.9% words/sec/thread:  206077 lr:  0.071065 avg.loss:  0.137328 ETA:   0h 0m53s\rProgress:  29.1% words/sec/thread:  206213 lr:  0.070913 avg.loss:  0.136670 ETA:   0h 0m53s\rProgress:  29.2% words/sec/thread:  206275 lr:  0.070772 avg.loss:  0.136205 ETA:   0h 0m53s\rProgress:  29.4% words/sec/thread:  206265 lr:  0.070640 avg.loss:  0.135852 ETA:   0h 0m53s\rProgress:  29.5% words/sec/thread:  206364 lr:  0.070493 avg.loss:  0.135328 ETA:   0h 0m53s\rProgress:  29.7% words/sec/thread:  206523 lr:  0.070338 avg.loss:  0.134959 ETA:   0h 0m52s\rProgress:  29.8% words/sec/thread:  206686 lr:  0.070181 avg.loss:  0.134376 ETA:   0h 0m52s\rProgress:  30.0% words/sec/thread:  206809 lr:  0.070030 avg.loss:  0.133868 ETA:   0h 0m52s\rProgress:  30.1% words/sec/thread:  206901 lr:  0.069884 avg.loss:  0.133318 ETA:   0h 0m52s\rProgress:  30.3% words/sec/thread:  207056 lr:  0.069728 avg.loss:  0.132709 ETA:   0h 0m52s\rProgress:  30.4% words/sec/thread:  207221 lr:  0.069570 avg.loss:  0.132219 ETA:   0h 0m52s\rProgress:  30.6% words/sec/thread:  207274 lr:  0.069429 avg.loss:  0.131797 ETA:   0h 0m52s\rProgress:  30.7% words/sec/thread:  207389 lr:  0.069278 avg.loss:  0.131400 ETA:   0h 0m51s\rProgress:  30.8% words/sec/thread:  207198 lr:  0.069173 avg.loss:  0.131131 ETA:   0h 0m51s\rProgress:  30.9% words/sec/thread:  206889 lr:  0.069085 avg.loss:  0.130827 ETA:   0h 0m51s\rProgress:  31.0% words/sec/thread:  206522 lr:  0.069003 avg.loss:  0.130730 ETA:   0h 0m51s\rProgress:  31.1% words/sec/thread:  206030 lr:  0.068944 avg.loss:  0.130566 ETA:   0h 0m52s\rProgress:  31.1% words/sec/thread:  205574 lr:  0.068880 avg.loss:  0.130357 ETA:   0h 0m52s\rProgress:  31.2% words/sec/thread:  205103 lr:  0.068819 avg.loss:  0.130164 ETA:   0h 0m52s\rProgress:  31.3% words/sec/thread:  204738 lr:  0.068743 avg.loss:  0.130052 ETA:   0h 0m52s\rProgress:  31.3% words/sec/thread:  204284 lr:  0.068681 avg.loss:  0.129830 ETA:   0h 0m52s\rProgress:  31.4% words/sec/thread:  203838 lr:  0.068618 avg.loss:  0.129597 ETA:   0h 0m52s\rProgress:  31.4% words/sec/thread:  203363 lr:  0.068560 avg.loss:  0.129465 ETA:   0h 0m52s\rProgress:  31.5% words/sec/thread:  202887 lr:  0.068503 avg.loss:  0.129257 ETA:   0h 0m52s\rProgress:  31.6% words/sec/thread:  202442 lr:  0.068441 avg.loss:  0.129133 ETA:   0h 0m52s\rProgress:  31.6% words/sec/thread:  202034 lr:  0.068373 avg.loss:  0.128869 ETA:   0h 0m52s\rProgress:  31.7% words/sec/thread:  201708 lr:  0.068289 avg.loss:  0.128714 ETA:   0h 0m52s\rProgress:  31.8% words/sec/thread:  201261 lr:  0.068223 avg.loss:  0.128513 ETA:   0h 0m52s\rProgress:  31.8% words/sec/thread:  200856 lr:  0.068158 avg.loss:  0.128288 ETA:   0h 0m52s\rProgress:  31.9% words/sec/thread:  200427 lr:  0.068093 avg.loss:  0.128190 ETA:   0h 0m52s\rProgress:  32.0% words/sec/thread:  199954 lr:  0.068020 avg.loss:  0.128054 ETA:   0h 0m52s\rProgress:  32.0% words/sec/thread:  199508 lr:  0.067962 avg.loss:  0.128163 ETA:   0h 0m52s\rProgress:  32.1% words/sec/thread:  199067 lr:  0.067905 avg.loss:  0.128003 ETA:   0h 0m53s\rProgress:  32.2% words/sec/thread:  198718 lr:  0.067833 avg.loss:  0.127717 ETA:   0h 0m53s\rProgress:  32.2% words/sec/thread:  198286 lr:  0.067775 avg.loss:  0.127552 ETA:   0h 0m53s\rProgress:  32.3% words/sec/thread:  197922 lr:  0.067707 avg.loss:  0.127297 ETA:   0h 0m53s\rProgress:  32.4% words/sec/thread:  197537 lr:  0.067642 avg.loss:  0.127194 ETA:   0h 0m53s\rProgress:  32.4% words/sec/thread:  197095 lr:  0.067588 avg.loss:  0.127047 ETA:   0h 0m53s\rProgress:  32.5% words/sec/thread:  196788 lr:  0.067511 avg.loss:  0.126870 ETA:   0h 0m53s\rProgress:  32.6% words/sec/thread:  196489 lr:  0.067434 avg.loss:  0.126617 ETA:   0h 0m53s\rProgress:  32.7% words/sec/thread:  196263 lr:  0.067345 avg.loss:  0.126348 ETA:   0h 0m53s\rProgress:  32.8% words/sec/thread:  196296 lr:  0.067213 avg.loss:  0.126074 ETA:   0h 0m53s\rProgress:  32.9% words/sec/thread:  196200 lr:  0.067103 avg.loss:  0.125800 ETA:   0h 0m53s\rProgress:  33.0% words/sec/thread:  196170 lr:  0.066980 avg.loss:  0.125459 ETA:   0h 0m53s\rProgress:  33.1% words/sec/thread:  195958 lr:  0.066889 avg.loss:  0.125183 ETA:   0h 0m53s\rProgress:  33.2% words/sec/thread:  195835 lr:  0.066784 avg.loss:  0.124940 ETA:   0h 0m53s\rProgress:  33.3% words/sec/thread:  195795 lr:  0.066664 avg.loss:  0.124745 ETA:   0h 0m52s\rProgress:  33.5% words/sec/thread:  195749 lr:  0.066546 avg.loss:  0.124383 ETA:   0h 0m52s\rProgress:  33.6% words/sec/thread:  195717 lr:  0.066426 avg.loss:  0.124093 ETA:   0h 0m52s\rProgress:  33.7% words/sec/thread:  195470 lr:  0.066342 avg.loss:  0.123935 ETA:   0h 0m52s\rProgress:  33.8% words/sec/thread:  195299 lr:  0.066246 avg.loss:  0.123633 ETA:   0h 0m52s\rProgress:  33.8% words/sec/thread:  195102 lr:  0.066154 avg.loss:  0.123396 ETA:   0h 0m52s\rProgress:  33.9% words/sec/thread:  194923 lr:  0.066060 avg.loss:  0.123130 ETA:   0h 0m52s\rProgress:  34.0% words/sec/thread:  194718 lr:  0.065970 avg.loss:  0.122946 ETA:   0h 0m52s\rProgress:  34.1% words/sec/thread:  194536 lr:  0.065876 avg.loss:  0.122669 ETA:   0h 0m52s\rProgress:  34.2% words/sec/thread:  194286 lr:  0.065795 avg.loss:  0.122390 ETA:   0h 0m52s\rProgress:  34.3% words/sec/thread:  194198 lr:  0.065685 avg.loss:  0.122160 ETA:   0h 0m52s\rProgress:  34.4% words/sec/thread:  194073 lr:  0.065582 avg.loss:  0.121986 ETA:   0h 0m52s\rProgress:  34.5% words/sec/thread:  193940 lr:  0.065481 avg.loss:  0.121744 ETA:   0h 0m52s\rProgress:  34.7% words/sec/thread:  194018 lr:  0.065342 avg.loss:  0.121362 ETA:   0h 0m52s\rProgress:  34.8% words/sec/thread:  194125 lr:  0.065198 avg.loss:  0.121052 ETA:   0h 0m52s\rProgress:  34.9% words/sec/thread:  194203 lr:  0.065055 avg.loss:  0.120649 ETA:   0h 0m52s\rProgress:  35.1% words/sec/thread:  194265 lr:  0.064919 avg.loss:  0.120242 ETA:   0h 0m51s\rProgress:  35.2% words/sec/thread:  194409 lr:  0.064768 avg.loss:  0.119853 ETA:   0h 0m51s\rProgress:  35.4% words/sec/thread:  194613 lr:  0.064605 avg.loss:  0.119440 ETA:   0h 0m51s\rProgress:  35.5% words/sec/thread:  194590 lr:  0.064484 avg.loss:  0.119188 ETA:   0h 0m51s\rProgress:  35.6% words/sec/thread:  194627 lr:  0.064352 avg.loss:  0.118900 ETA:   0h 0m51s\rProgress:  35.8% words/sec/thread:  194732 lr:  0.064207 avg.loss:  0.118525 ETA:   0h 0m51s\rProgress:  35.9% words/sec/thread:  194811 lr:  0.064067 avg.loss:  0.118239 ETA:   0h 0m51s\rProgress:  36.1% words/sec/thread:  194909 lr:  0.063924 avg.loss:  0.117997 ETA:   0h 0m50s\rProgress:  36.2% words/sec/thread:  194972 lr:  0.063786 avg.loss:  0.117734 ETA:   0h 0m50s\rProgress:  36.4% words/sec/thread:  195060 lr:  0.063644 avg.loss:  0.117354 ETA:   0h 0m50s\rProgress:  36.5% words/sec/thread:  195005 lr:  0.063529 avg.loss:  0.117114 ETA:   0h 0m50s\rProgress:  36.6% words/sec/thread:  194957 lr:  0.063413 avg.loss:  0.116916 ETA:   0h 0m50s\rProgress:  36.7% words/sec/thread:  194905 lr:  0.063297 avg.loss:  0.116647 ETA:   0h 0m50s\rProgress:  36.8% words/sec/thread:  194823 lr:  0.063187 avg.loss:  0.116353 ETA:   0h 0m50s\rProgress:  36.9% words/sec/thread:  194791 lr:  0.063067 avg.loss:  0.116085 ETA:   0h 0m50s\rProgress:  37.0% words/sec/thread:  194745 lr:  0.062951 avg.loss:  0.115776 ETA:   0h 0m50s\rProgress:  37.2% words/sec/thread:  194752 lr:  0.062824 avg.loss:  0.115780 ETA:   0h 0m50s\rProgress:  37.3% words/sec/thread:  194731 lr:  0.062702 avg.loss:  0.115342 ETA:   0h 0m50s\rProgress:  37.4% words/sec/thread:  194645 lr:  0.062593 avg.loss:  0.114996 ETA:   0h 0m49s\rProgress:  37.5% words/sec/thread:  194590 lr:  0.062479 avg.loss:  0.114821 ETA:   0h 0m49s\rProgress:  37.6% words/sec/thread:  194506 lr:  0.062370 avg.loss:  0.114596 ETA:   0h 0m49s\rProgress:  37.7% words/sec/thread:  194364 lr:  0.062272 avg.loss:  0.114567 ETA:   0h 0m49s\rProgress:  37.8% words/sec/thread:  194334 lr:  0.062153 avg.loss:  0.114260 ETA:   0h 0m49s\rProgress:  38.0% words/sec/thread:  194301 lr:  0.062034 avg.loss:  0.114079 ETA:   0h 0m49s\rProgress:  38.1% words/sec/thread:  194249 lr:  0.061919 avg.loss:  0.113949 ETA:   0h 0m49s\rProgress:  38.2% words/sec/thread:  194207 lr:  0.061802 avg.loss:  0.113703 ETA:   0h 0m49s\rProgress:  38.3% words/sec/thread:  194181 lr:  0.061682 avg.loss:  0.113410 ETA:   0h 0m49s\rProgress:  38.4% words/sec/thread:  194105 lr:  0.061572 avg.loss:  0.113200 ETA:   0h 0m49s\rProgress:  38.5% words/sec/thread:  194009 lr:  0.061466 avg.loss:  0.112993 ETA:   0h 0m49s\rProgress:  38.6% words/sec/thread:  193948 lr:  0.061353 avg.loss:  0.112688 ETA:   0h 0m49s\rProgress:  38.8% words/sec/thread:  193921 lr:  0.061234 avg.loss:  0.112518 ETA:   0h 0m49s\rProgress:  38.9% words/sec/thread:  193897 lr:  0.061114 avg.loss:  0.112296 ETA:   0h 0m49s\rProgress:  39.0% words/sec/thread:  193798 lr:  0.061009 avg.loss:  0.112013 ETA:   0h 0m48s\rProgress:  39.1% words/sec/thread:  193740 lr:  0.060895 avg.loss:  0.111894 ETA:   0h 0m48s\rProgress:  39.2% words/sec/thread:  193538 lr:  0.060811 avg.loss:  0.111735 ETA:   0h 0m48s\rProgress:  39.3% words/sec/thread:  193442 lr:  0.060705 avg.loss:  0.111464 ETA:   0h 0m48s\rProgress:  39.4% words/sec/thread:  193250 lr:  0.060620 avg.loss:  0.111311 ETA:   0h 0m48s\rProgress:  39.5% words/sec/thread:  193084 lr:  0.060529 avg.loss:  0.111126 ETA:   0h 0m48s\rProgress:  39.6% words/sec/thread:  192916 lr:  0.060439 avg.loss:  0.110954 ETA:   0h 0m48s\rProgress:  39.6% words/sec/thread:  192745 lr:  0.060350 avg.loss:  0.110774 ETA:   0h 0m48s\rProgress:  39.7% words/sec/thread:  192566 lr:  0.060263 avg.loss:  0.110604 ETA:   0h 0m48s\rProgress:  39.8% words/sec/thread:  192402 lr:  0.060173 avg.loss:  0.110460 ETA:   0h 0m48s\rProgress:  39.9% words/sec/thread:  192238 lr:  0.060083 avg.loss:  0.110340 ETA:   0h 0m48s\rProgress:  40.0% words/sec/thread:  192170 lr:  0.059974 avg.loss:  0.110109 ETA:   0h 0m48s\rProgress:  40.1% words/sec/thread:  192066 lr:  0.059871 avg.loss:  0.109868 ETA:   0h 0m48s\rProgress:  40.2% words/sec/thread:  191945 lr:  0.059773 avg.loss:  0.109706 ETA:   0h 0m48s\rProgress:  40.4% words/sec/thread:  192065 lr:  0.059624 avg.loss:  0.109452 ETA:   0h 0m48s\rProgress:  40.5% words/sec/thread:  192112 lr:  0.059491 avg.loss:  0.109125 ETA:   0h 0m48s\rProgress:  40.7% words/sec/thread:  192261 lr:  0.059335 avg.loss:  0.108865 ETA:   0h 0m47s\rProgress:  40.8% words/sec/thread:  192456 lr:  0.059170 avg.loss:  0.108535 ETA:   0h 0m47s\rProgress:  41.0% words/sec/thread:  192621 lr:  0.059011 avg.loss:  0.108147 ETA:   0h 0m47s\rProgress:  41.1% words/sec/thread:  192773 lr:  0.058854 avg.loss:  0.107857 ETA:   0h 0m47s\rProgress:  41.3% words/sec/thread:  192883 lr:  0.058706 avg.loss:  0.107591 ETA:   0h 0m47s\rProgress:  41.4% words/sec/thread:  192997 lr:  0.058558 avg.loss:  0.107246 ETA:   0h 0m47s\rProgress:  41.6% words/sec/thread:  193095 lr:  0.058412 avg.loss:  0.106949 ETA:   0h 0m47s\rProgress:  41.7% words/sec/thread:  193134 lr:  0.058279 avg.loss:  0.106684 ETA:   0h 0m46s\rProgress:  41.9% words/sec/thread:  193213 lr:  0.058137 avg.loss:  0.106513 ETA:   0h 0m46s\rProgress:  42.0% words/sec/thread:  193347 lr:  0.057984 avg.loss:  0.106200 ETA:   0h 0m46s\rProgress:  42.2% words/sec/thread:  193486 lr:  0.057829 avg.loss:  0.105943 ETA:   0h 0m46s\rProgress:  42.3% words/sec/thread:  193586 lr:  0.057683 avg.loss:  0.105603 ETA:   0h 0m46s\rProgress:  42.5% words/sec/thread:  193687 lr:  0.057536 avg.loss:  0.105313 ETA:   0h 0m46s\rProgress:  42.6% words/sec/thread:  193798 lr:  0.057386 avg.loss:  0.105015 ETA:   0h 0m46s\rProgress:  42.8% words/sec/thread:  193948 lr:  0.057229 avg.loss:  0.104773 ETA:   0h 0m45s\rProgress:  42.9% words/sec/thread:  194073 lr:  0.057076 avg.loss:  0.104432 ETA:   0h 0m45s\rProgress:  43.1% words/sec/thread:  194152 lr:  0.056934 avg.loss:  0.104120 ETA:   0h 0m45s\rProgress:  43.2% words/sec/thread:  194146 lr:  0.056810 avg.loss:  0.103986 ETA:   0h 0m45s\rProgress:  43.3% words/sec/thread:  194168 lr:  0.056680 avg.loss:  0.103844 ETA:   0h 0m45s\rProgress:  43.5% words/sec/thread:  194284 lr:  0.056529 avg.loss:  0.103824 ETA:   0h 0m45s\rProgress:  43.6% words/sec/thread:  194386 lr:  0.056381 avg.loss:  0.103578 ETA:   0h 0m45s\rProgress:  43.8% words/sec/thread:  194509 lr:  0.056228 avg.loss:  0.103347 ETA:   0h 0m44s\rProgress:  43.9% words/sec/thread:  194620 lr:  0.056078 avg.loss:  0.103170 ETA:   0h 0m44s\rProgress:  44.1% words/sec/thread:  194726 lr:  0.055928 avg.loss:  0.102816 ETA:   0h 0m44s\rProgress:  44.2% words/sec/thread:  194820 lr:  0.055782 avg.loss:  0.102555 ETA:   0h 0m44s\rProgress:  44.4% words/sec/thread:  194941 lr:  0.055628 avg.loss:  0.102286 ETA:   0h 0m44s\rProgress:  44.5% words/sec/thread:  195053 lr:  0.055477 avg.loss:  0.102038 ETA:   0h 0m44s\rProgress:  44.6% words/sec/thread:  195055 lr:  0.055351 avg.loss:  0.101969 ETA:   0h 0m44s\rProgress:  44.8% words/sec/thread:  195042 lr:  0.055228 avg.loss:  0.101764 ETA:   0h 0m44s\rProgress:  44.9% words/sec/thread:  195087 lr:  0.055093 avg.loss:  0.101552 ETA:   0h 0m43s\rProgress:  45.0% words/sec/thread:  195078 lr:  0.054969 avg.loss:  0.101355 ETA:   0h 0m43s\rProgress:  45.1% words/sec/thread:  194912 lr:  0.054882 avg.loss:  0.101252 ETA:   0h 0m43s\rProgress:  45.2% words/sec/thread:  194730 lr:  0.054798 avg.loss:  0.101205 ETA:   0h 0m43s\rProgress:  45.3% words/sec/thread:  194567 lr:  0.054711 avg.loss:  0.101107 ETA:   0h 0m43s\rProgress:  45.4% words/sec/thread:  194410 lr:  0.054622 avg.loss:  0.101051 ETA:   0h 0m43s\rProgress:  45.5% words/sec/thread:  194286 lr:  0.054526 avg.loss:  0.100846 ETA:   0h 0m43s\rProgress:  45.5% words/sec/thread:  194052 lr:  0.054456 avg.loss:  0.100707 ETA:   0h 0m43s\rProgress:  45.6% words/sec/thread:  193814 lr:  0.054387 avg.loss:  0.100594 ETA:   0h 0m43s\rProgress:  45.7% words/sec/thread:  193495 lr:  0.054337 avg.loss:  0.100589 ETA:   0h 0m43s\rProgress:  45.7% words/sec/thread:  193236 lr:  0.054274 avg.loss:  0.100488 ETA:   0h 0m43s\rProgress:  45.8% words/sec/thread:  192997 lr:  0.054206 avg.loss:  0.100380 ETA:   0h 0m43s\rProgress:  45.9% words/sec/thread:  192734 lr:  0.054144 avg.loss:  0.100266 ETA:   0h 0m43s\rProgress:  45.9% words/sec/thread:  192531 lr:  0.054069 avg.loss:  0.100202 ETA:   0h 0m43s\rProgress:  46.0% words/sec/thread:  192320 lr:  0.053993 avg.loss:  0.100098 ETA:   0h 0m43s\rProgress:  46.1% words/sec/thread:  192108 lr:  0.053910 avg.loss:  0.100018 ETA:   0h 0m43s\rProgress:  46.2% words/sec/thread:  191860 lr:  0.053822 avg.loss:  0.099886 ETA:   0h 0m43s\rProgress:  46.3% words/sec/thread:  191589 lr:  0.053747 avg.loss:  0.099782 ETA:   0h 0m43s\rProgress:  46.3% words/sec/thread:  191342 lr:  0.053678 avg.loss:  0.099630 ETA:   0h 0m43s\rProgress:  46.4% words/sec/thread:  191104 lr:  0.053609 avg.loss:  0.099497 ETA:   0h 0m43s\rProgress:  46.5% words/sec/thread:  190857 lr:  0.053545 avg.loss:  0.099426 ETA:   0h 0m43s\rProgress:  46.5% words/sec/thread:  190640 lr:  0.053475 avg.loss:  0.099295 ETA:   0h 0m43s\rProgress:  46.6% words/sec/thread:  190435 lr:  0.053402 avg.loss:  0.099225 ETA:   0h 0m43s\rProgress:  46.7% words/sec/thread:  190189 lr:  0.053340 avg.loss:  0.099139 ETA:   0h 0m43s\rProgress:  46.7% words/sec/thread:  189950 lr:  0.053276 avg.loss:  0.099005 ETA:   0h 0m43s\rProgress:  46.8% words/sec/thread:  189710 lr:  0.053213 avg.loss:  0.098899 ETA:   0h 0m43s\rProgress:  46.9% words/sec/thread:  189492 lr:  0.053145 avg.loss:  0.098856 ETA:   0h 0m43s\rProgress:  47.0% words/sec/thread:  189397 lr:  0.053046 avg.loss:  0.098746 ETA:   0h 0m43s\rProgress:  47.1% words/sec/thread:  189430 lr:  0.052916 avg.loss:  0.098535 ETA:   0h 0m43s\rProgress:  47.2% words/sec/thread:  189450 lr:  0.052789 avg.loss:  0.098325 ETA:   0h 0m43s\rProgress:  47.3% words/sec/thread:  189379 lr:  0.052685 avg.loss:  0.098163 ETA:   0h 0m43s\rProgress:  47.5% words/sec/thread:  189438 lr:  0.052547 avg.loss:  0.097962 ETA:   0h 0m43s\rProgress:  47.6% words/sec/thread:  189413 lr:  0.052432 avg.loss:  0.097792 ETA:   0h 0m43s\rProgress:  47.7% words/sec/thread:  189394 lr:  0.052314 avg.loss:  0.097610 ETA:   0h 0m42s\rProgress:  47.8% words/sec/thread:  189394 lr:  0.052192 avg.loss:  0.097365 ETA:   0h 0m42s\rProgress:  47.9% words/sec/thread:  189428 lr:  0.052062 avg.loss:  0.097188 ETA:   0h 0m42s\rProgress:  48.1% words/sec/thread:  189464 lr:  0.051931 avg.loss:  0.097079 ETA:   0h 0m42s\rProgress:  48.2% words/sec/thread:  189471 lr:  0.051807 avg.loss:  0.096818 ETA:   0h 0m42s\rProgress:  48.3% words/sec/thread:  189477 lr:  0.051683 avg.loss:  0.096622 ETA:   0h 0m42s\rProgress:  48.4% words/sec/thread:  189383 lr:  0.051585 avg.loss:  0.096574 ETA:   0h 0m42s\rProgress:  48.5% words/sec/thread:  189325 lr:  0.051478 avg.loss:  0.096468 ETA:   0h 0m42s\rProgress:  48.7% words/sec/thread:  189438 lr:  0.051327 avg.loss:  0.096195 ETA:   0h 0m42s\rProgress:  48.8% words/sec/thread:  189437 lr:  0.051205 avg.loss:  0.096037 ETA:   0h 0m42s\rProgress:  48.9% words/sec/thread:  189480 lr:  0.051072 avg.loss:  0.095946 ETA:   0h 0m41s\rProgress:  49.0% words/sec/thread:  189478 lr:  0.050950 avg.loss:  0.095820 ETA:   0h 0m41s\rProgress:  49.2% words/sec/thread:  189474 lr:  0.050829 avg.loss:  0.095686 ETA:   0h 0m41s\rProgress:  49.3% words/sec/thread:  189446 lr:  0.050714 avg.loss:  0.095635 ETA:   0h 0m41s\rProgress:  49.4% words/sec/thread:  189545 lr:  0.050567 avg.loss:  0.095415 ETA:   0h 0m41s\rProgress:  49.6% words/sec/thread:  189630 lr:  0.050422 avg.loss:  0.095239 ETA:   0h 0m41s\rProgress:  49.7% words/sec/thread:  189589 lr:  0.050311 avg.loss:  0.095007 ETA:   0h 0m41s\rProgress:  49.8% words/sec/thread:  189532 lr:  0.050204 avg.loss:  0.094903 ETA:   0h 0m41s\rProgress:  49.9% words/sec/thread:  189587 lr:  0.050067 avg.loss:  0.094766 ETA:   0h 0m41s\rProgress:  50.1% words/sec/thread:  189635 lr:  0.049932 avg.loss:  0.094727 ETA:   0h 0m40s\rProgress:  50.2% words/sec/thread:  189698 lr:  0.049794 avg.loss:  0.094596 ETA:   0h 0m40s\rProgress:  50.3% words/sec/thread:  189765 lr:  0.049654 avg.loss:  0.094355 ETA:   0h 0m40s\rProgress:  50.5% words/sec/thread:  189830 lr:  0.049514 avg.loss:  0.094192 ETA:   0h 0m40s\rProgress:  50.6% words/sec/thread:  189898 lr:  0.049374 avg.loss:  0.093967 ETA:   0h 0m40s\rProgress:  50.8% words/sec/thread:  189958 lr:  0.049236 avg.loss:  0.093763 ETA:   0h 0m40s\rProgress:  50.9% words/sec/thread:  189937 lr:  0.049111 avg.loss:  0.093595 ETA:   0h 0m40s\rProgress:  51.0% words/sec/thread:  189916 lr:  0.048994 avg.loss:  0.093419 ETA:   0h 0m40s\rProgress:  51.1% words/sec/thread:  189933 lr:  0.048867 avg.loss:  0.093239 ETA:   0h 0m40s\rProgress:  51.2% words/sec/thread:  189870 lr:  0.048762 avg.loss:  0.093063 ETA:   0h 0m39s\rProgress:  51.4% words/sec/thread:  189897 lr:  0.048632 avg.loss:  0.092794 ETA:   0h 0m39s\rProgress:  51.5% words/sec/thread:  189961 lr:  0.048492 avg.loss:  0.092564 ETA:   0h 0m39s\rProgress:  51.7% words/sec/thread:  190051 lr:  0.048346 avg.loss:  0.092419 ETA:   0h 0m39s\rProgress:  51.8% words/sec/thread:  190129 lr:  0.048202 avg.loss:  0.092285 ETA:   0h 0m39s\rProgress:  51.9% words/sec/thread:  190189 lr:  0.048063 avg.loss:  0.092168 ETA:   0h 0m39s\rProgress:  52.1% words/sec/thread:  190226 lr:  0.047931 avg.loss:  0.092021 ETA:   0h 0m39s\rProgress:  52.2% words/sec/thread:  190242 lr:  0.047803 avg.loss:  0.091904 ETA:   0h 0m39s\rProgress:  52.3% words/sec/thread:  190265 lr:  0.047675 avg.loss:  0.091754 ETA:   0h 0m38s\rProgress:  52.5% words/sec/thread:  190320 lr:  0.047537 avg.loss:  0.091628 ETA:   0h 0m38s\rProgress:  52.6% words/sec/thread:  190316 lr:  0.047414 avg.loss:  0.091425 ETA:   0h 0m38s\rProgress:  52.7% words/sec/thread:  190344 lr:  0.047284 avg.loss:  0.091220 ETA:   0h 0m38s\rProgress:  52.9% words/sec/thread:  190422 lr:  0.047139 avg.loss:  0.091065 ETA:   0h 0m38s\rProgress:  53.0% words/sec/thread:  190510 lr:  0.046992 avg.loss:  0.090934 ETA:   0h 0m38s\rProgress:  53.1% words/sec/thread:  190560 lr:  0.046856 avg.loss:  0.090801 ETA:   0h 0m38s\rProgress:  53.3% words/sec/thread:  190516 lr:  0.046745 avg.loss:  0.090701 ETA:   0h 0m38s\rProgress:  53.4% words/sec/thread:  190516 lr:  0.046623 avg.loss:  0.090595 ETA:   0h 0m38s\rProgress:  53.5% words/sec/thread:  190520 lr:  0.046498 avg.loss:  0.090365 ETA:   0h 0m37s\rProgress:  53.6% words/sec/thread:  190595 lr:  0.046354 avg.loss:  0.090278 ETA:   0h 0m37s\rProgress:  53.8% words/sec/thread:  190701 lr:  0.046201 avg.loss:  0.090125 ETA:   0h 0m37s\rProgress:  53.9% words/sec/thread:  190721 lr:  0.046072 avg.loss:  0.089974 ETA:   0h 0m37s\rProgress:  54.1% words/sec/thread:  190775 lr:  0.045934 avg.loss:  0.089752 ETA:   0h 0m37s\rProgress:  54.2% words/sec/thread:  190875 lr:  0.045783 avg.loss:  0.089599 ETA:   0h 0m37s\rProgress:  54.4% words/sec/thread:  190964 lr:  0.045635 avg.loss:  0.089376 ETA:   0h 0m37s\rProgress:  54.5% words/sec/thread:  191015 lr:  0.045497 avg.loss:  0.089248 ETA:   0h 0m37s\rProgress:  54.7% words/sec/thread:  191111 lr:  0.045347 avg.loss:  0.089064 ETA:   0h 0m36s\rProgress:  54.8% words/sec/thread:  191190 lr:  0.045201 avg.loss:  0.088877 ETA:   0h 0m36s\rProgress:  54.9% words/sec/thread:  191285 lr:  0.045051 avg.loss:  0.088774 ETA:   0h 0m36s\rProgress:  55.1% words/sec/thread:  191323 lr:  0.044916 avg.loss:  0.088641 ETA:   0h 0m36s\rProgress:  55.2% words/sec/thread:  191384 lr:  0.044776 avg.loss:  0.088469 ETA:   0h 0m36s\rProgress:  55.4% words/sec/thread:  191484 lr:  0.044623 avg.loss:  0.088398 ETA:   0h 0m36s\rProgress:  55.5% words/sec/thread:  191488 lr:  0.044499 avg.loss:  0.088271 ETA:   0h 0m36s\rProgress:  55.7% words/sec/thread:  191601 lr:  0.044343 avg.loss:  0.088198 ETA:   0h 0m35s\rProgress:  55.8% words/sec/thread:  191708 lr:  0.044188 avg.loss:  0.088037 ETA:   0h 0m35s\rProgress:  56.0% words/sec/thread:  191797 lr:  0.044038 avg.loss:  0.087832 ETA:   0h 0m35s\rProgress:  56.1% words/sec/thread:  191907 lr:  0.043883 avg.loss:  0.087752 ETA:   0h 0m35s\rProgress:  56.3% words/sec/thread:  192015 lr:  0.043728 avg.loss:  0.087532 ETA:   0h 0m35s\rProgress:  56.4% words/sec/thread:  192133 lr:  0.043569 avg.loss:  0.087300 ETA:   0h 0m35s\rProgress:  56.6% words/sec/thread:  192228 lr:  0.043417 avg.loss:  0.087083 ETA:   0h 0m35s\rProgress:  56.7% words/sec/thread:  192332 lr:  0.043263 avg.loss:  0.086937 ETA:   0h 0m34s\rProgress:  56.9% words/sec/thread:  192457 lr:  0.043102 avg.loss:  0.086748 ETA:   0h 0m34s\rProgress:  57.0% words/sec/thread:  192479 lr:  0.042972 avg.loss:  0.086626 ETA:   0h 0m34s\rProgress:  57.2% words/sec/thread:  192555 lr:  0.042825 avg.loss:  0.086505 ETA:   0h 0m34s\rProgress:  57.3% words/sec/thread:  192667 lr:  0.042668 avg.loss:  0.086292 ETA:   0h 0m34s\rProgress:  57.5% words/sec/thread:  192757 lr:  0.042517 avg.loss:  0.086124 ETA:   0h 0m34s\rProgress:  57.6% words/sec/thread:  192860 lr:  0.042362 avg.loss:  0.085969 ETA:   0h 0m34s\rProgress:  57.8% words/sec/thread:  192967 lr:  0.042206 avg.loss:  0.085792 ETA:   0h 0m34s\rProgress:  57.9% words/sec/thread:  193051 lr:  0.042056 avg.loss:  0.085611 ETA:   0h 0m33s\rProgress:  58.1% words/sec/thread:  193141 lr:  0.041905 avg.loss:  0.085404 ETA:   0h 0m33s\rProgress:  58.2% words/sec/thread:  193235 lr:  0.041752 avg.loss:  0.085254 ETA:   0h 0m33s\rProgress:  58.4% words/sec/thread:  193343 lr:  0.041595 avg.loss:  0.085067 ETA:   0h 0m33s\rProgress:  58.5% words/sec/thread:  193369 lr:  0.041463 avg.loss:  0.085137 ETA:   0h 0m33s\rProgress:  58.7% words/sec/thread:  193473 lr:  0.041306 avg.loss:  0.085012 ETA:   0h 0m33s\rProgress:  58.8% words/sec/thread:  193553 lr:  0.041158 avg.loss:  0.084853 ETA:   0h 0m33s\rProgress:  59.0% words/sec/thread:  193656 lr:  0.041001 avg.loss:  0.084637 ETA:   0h 0m32s\rProgress:  59.2% words/sec/thread:  193777 lr:  0.040840 avg.loss:  0.084467 ETA:   0h 0m32s\rProgress:  59.3% words/sec/thread:  193887 lr:  0.040681 avg.loss:  0.084394 ETA:   0h 0m32s\rProgress:  59.5% words/sec/thread:  194002 lr:  0.040521 avg.loss:  0.084237 ETA:   0h 0m32s\rProgress:  59.6% words/sec/thread:  194045 lr:  0.040383 avg.loss:  0.084130 ETA:   0h 0m32s\rProgress:  59.8% words/sec/thread:  194147 lr:  0.040226 avg.loss:  0.084015 ETA:   0h 0m32s\rProgress:  59.9% words/sec/thread:  194263 lr:  0.040066 avg.loss:  0.083940 ETA:   0h 0m32s\rProgress:  60.1% words/sec/thread:  194357 lr:  0.039912 avg.loss:  0.083828 ETA:   0h 0m31s\rProgress:  60.2% words/sec/thread:  194407 lr:  0.039771 avg.loss:  0.083693 ETA:   0h 0m31s\rProgress:  60.4% words/sec/thread:  194490 lr:  0.039620 avg.loss:  0.083523 ETA:   0h 0m31s\rProgress:  60.5% words/sec/thread:  194598 lr:  0.039461 avg.loss:  0.083352 ETA:   0h 0m31s\rProgress:  60.7% words/sec/thread:  194685 lr:  0.039309 avg.loss:  0.083185 ETA:   0h 0m31s\rProgress:  60.8% words/sec/thread:  194591 lr:  0.039209 avg.loss:  0.083078 ETA:   0h 0m31s\rProgress:  60.9% words/sec/thread:  194433 lr:  0.039133 avg.loss:  0.083025 ETA:   0h 0m31s\rProgress:  61.0% words/sec/thread:  194345 lr:  0.039035 avg.loss:  0.082974 ETA:   0h 0m31s\rProgress:  61.1% words/sec/thread:  194243 lr:  0.038942 avg.loss:  0.082900 ETA:   0h 0m31s\rProgress:  61.2% words/sec/thread:  194134 lr:  0.038850 avg.loss:  0.082824 ETA:   0h 0m31s\rProgress:  61.2% words/sec/thread:  194030 lr:  0.038758 avg.loss:  0.082731 ETA:   0h 0m31s\rProgress:  61.3% words/sec/thread:  193865 lr:  0.038680 avg.loss:  0.082685 ETA:   0h 0m31s\rProgress:  61.4% words/sec/thread:  193712 lr:  0.038603 avg.loss:  0.082614 ETA:   0h 0m30s\rProgress:  61.5% words/sec/thread:  193538 lr:  0.038532 avg.loss:  0.082556 ETA:   0h 0m30s\rProgress:  61.5% words/sec/thread:  193365 lr:  0.038457 avg.loss:  0.082465 ETA:   0h 0m30s\rProgress:  61.6% words/sec/thread:  193196 lr:  0.038385 avg.loss:  0.082384 ETA:   0h 0m30s\rProgress:  61.7% words/sec/thread:  193034 lr:  0.038312 avg.loss:  0.082365 ETA:   0h 0m30s\rProgress:  61.8% words/sec/thread:  192903 lr:  0.038227 avg.loss:  0.082266 ETA:   0h 0m30s\rProgress:  61.9% words/sec/thread:  192832 lr:  0.038126 avg.loss:  0.082247 ETA:   0h 0m30s\rProgress:  62.0% words/sec/thread:  192705 lr:  0.038043 avg.loss:  0.082170 ETA:   0h 0m30s\rProgress:  62.0% words/sec/thread:  192509 lr:  0.037982 avg.loss:  0.082112 ETA:   0h 0m30s\rProgress:  62.1% words/sec/thread:  192407 lr:  0.037891 avg.loss:  0.082016 ETA:   0h 0m30s\rProgress:  62.2% words/sec/thread:  192299 lr:  0.037802 avg.loss:  0.081934 ETA:   0h 0m30s\rProgress:  62.3% words/sec/thread:  192207 lr:  0.037708 avg.loss:  0.081887 ETA:   0h 0m30s\rProgress:  62.4% words/sec/thread:  192064 lr:  0.037630 avg.loss:  0.081779 ETA:   0h 0m30s\rProgress:  62.4% words/sec/thread:  191882 lr:  0.037566 avg.loss:  0.081741 ETA:   0h 0m30s\rProgress:  62.5% words/sec/thread:  191765 lr:  0.037480 avg.loss:  0.081613 ETA:   0h 0m30s\rProgress:  62.6% words/sec/thread:  191638 lr:  0.037398 avg.loss:  0.081532 ETA:   0h 0m30s\rProgress:  62.7% words/sec/thread:  191474 lr:  0.037328 avg.loss:  0.081476 ETA:   0h 0m30s\rProgress:  62.7% words/sec/thread:  191327 lr:  0.037253 avg.loss:  0.081408 ETA:   0h 0m30s\rProgress:  62.8% words/sec/thread:  191143 lr:  0.037190 avg.loss:  0.081373 ETA:   0h 0m30s\rProgress:  62.9% words/sec/thread:  190986 lr:  0.037119 avg.loss:  0.081316 ETA:   0h 0m30s\rProgress:  63.0% words/sec/thread:  190865 lr:  0.037036 avg.loss:  0.081250 ETA:   0h 0m30s\rProgress:  63.1% words/sec/thread:  190812 lr:  0.036930 avg.loss:  0.081127 ETA:   0h 0m30s\rProgress:  63.2% words/sec/thread:  190898 lr:  0.036779 avg.loss:  0.081005 ETA:   0h 0m29s\rProgress:  63.4% words/sec/thread:  190997 lr:  0.036623 avg.loss:  0.080873 ETA:   0h 0m29s\rProgress:  63.5% words/sec/thread:  191098 lr:  0.036466 avg.loss:  0.080708 ETA:   0h 0m29s\rProgress:  63.7% words/sec/thread:  191166 lr:  0.036321 avg.loss:  0.080604 ETA:   0h 0m29s\rProgress:  63.8% words/sec/thread:  191271 lr:  0.036163 avg.loss:  0.080472 ETA:   0h 0m29s\rProgress:  64.0% words/sec/thread:  191367 lr:  0.036007 avg.loss:  0.080380 ETA:   0h 0m29s\rProgress:  64.1% words/sec/thread:  191459 lr:  0.035853 avg.loss:  0.080299 ETA:   0h 0m29s\rProgress:  64.3% words/sec/thread:  191573 lr:  0.035692 avg.loss:  0.080181 ETA:   0h 0m28s\rProgress:  64.5% words/sec/thread:  191671 lr:  0.035535 avg.loss:  0.080086 ETA:   0h 0m28s\rProgress:  64.6% words/sec/thread:  191759 lr:  0.035381 avg.loss:  0.079950 ETA:   0h 0m28s\rProgress:  64.8% words/sec/thread:  191892 lr:  0.035213 avg.loss:  0.079803 ETA:   0h 0m28s\rProgress:  65.0% words/sec/thread:  192021 lr:  0.035045 avg.loss:  0.079679 ETA:   0h 0m28s\rProgress:  65.1% words/sec/thread:  192129 lr:  0.034885 avg.loss:  0.079598 ETA:   0h 0m28s\rProgress:  65.3% words/sec/thread:  192244 lr:  0.034722 avg.loss:  0.079449 ETA:   0h 0m28s\rProgress:  65.4% words/sec/thread:  192382 lr:  0.034552 avg.loss:  0.079278 ETA:   0h 0m27s\rProgress:  65.6% words/sec/thread:  192505 lr:  0.034386 avg.loss:  0.079121 ETA:   0h 0m27s\rProgress:  65.8% words/sec/thread:  192609 lr:  0.034226 avg.loss:  0.078968 ETA:   0h 0m27s\rProgress:  65.9% words/sec/thread:  192718 lr:  0.034065 avg.loss:  0.078917 ETA:   0h 0m27s\rProgress:  66.1% words/sec/thread:  192827 lr:  0.033903 avg.loss:  0.078793 ETA:   0h 0m27s\rProgress:  66.2% words/sec/thread:  192873 lr:  0.033763 avg.loss:  0.078712 ETA:   0h 0m27s\rProgress:  66.4% words/sec/thread:  192965 lr:  0.033607 avg.loss:  0.078547 ETA:   0h 0m27s\rProgress:  66.5% words/sec/thread:  193049 lr:  0.033454 avg.loss:  0.078414 ETA:   0h 0m26s\rProgress:  66.7% words/sec/thread:  193135 lr:  0.033300 avg.loss:  0.078266 ETA:   0h 0m26s\rProgress:  66.9% words/sec/thread:  193215 lr:  0.033148 avg.loss:  0.078171 ETA:   0h 0m26s\rProgress:  67.0% words/sec/thread:  193306 lr:  0.032992 avg.loss:  0.078065 ETA:   0h 0m26s\rProgress:  67.2% words/sec/thread:  193380 lr:  0.032842 avg.loss:  0.077917 ETA:   0h 0m26s\rProgress:  67.3% words/sec/thread:  193454 lr:  0.032692 avg.loss:  0.077776 ETA:   0h 0m26s\rProgress:  67.5% words/sec/thread:  193537 lr:  0.032538 avg.loss:  0.077622 ETA:   0h 0m26s\rProgress:  67.6% words/sec/thread:  193621 lr:  0.032384 avg.loss:  0.077491 ETA:   0h 0m26s\rProgress:  67.7% words/sec/thread:  193641 lr:  0.032253 avg.loss:  0.077447 ETA:   0h 0m25s\rProgress:  67.9% words/sec/thread:  193714 lr:  0.032102 avg.loss:  0.077433 ETA:   0h 0m25s\rProgress:  68.1% words/sec/thread:  193802 lr:  0.031946 avg.loss:  0.077323 ETA:   0h 0m25s\rProgress:  68.2% words/sec/thread:  193873 lr:  0.031797 avg.loss:  0.077227 ETA:   0h 0m25s\rProgress:  68.3% words/sec/thread:  193932 lr:  0.031651 avg.loss:  0.077142 ETA:   0h 0m25s\rProgress:  68.5% words/sec/thread:  194006 lr:  0.031500 avg.loss:  0.077141 ETA:   0h 0m25s\rProgress:  68.7% words/sec/thread:  194081 lr:  0.031349 avg.loss:  0.076986 ETA:   0h 0m25s\rProgress:  68.8% words/sec/thread:  194160 lr:  0.031195 avg.loss:  0.076846 ETA:   0h 0m24s\rProgress:  69.0% words/sec/thread:  194235 lr:  0.031044 avg.loss:  0.076724 ETA:   0h 0m24s\rProgress:  69.1% words/sec/thread:  194311 lr:  0.030892 avg.loss:  0.076623 ETA:   0h 0m24s\rProgress:  69.2% words/sec/thread:  194320 lr:  0.030762 avg.loss:  0.076573 ETA:   0h 0m24s\rProgress:  69.4% words/sec/thread:  194381 lr:  0.030615 avg.loss:  0.076467 ETA:   0h 0m24s\rProgress:  69.5% words/sec/thread:  194437 lr:  0.030470 avg.loss:  0.076376 ETA:   0h 0m24s\rProgress:  69.7% words/sec/thread:  194500 lr:  0.030322 avg.loss:  0.076220 ETA:   0h 0m24s\rProgress:  69.8% words/sec/thread:  194556 lr:  0.030177 avg.loss:  0.076128 ETA:   0h 0m24s\rProgress:  70.0% words/sec/thread:  194653 lr:  0.030017 avg.loss:  0.076035 ETA:   0h 0m23s\rProgress:  70.1% words/sec/thread:  194734 lr:  0.029862 avg.loss:  0.075889 ETA:   0h 0m23s\rProgress:  70.3% words/sec/thread:  194815 lr:  0.029707 avg.loss:  0.075739 ETA:   0h 0m23s\rProgress:  70.5% words/sec/thread:  194908 lr:  0.029548 avg.loss:  0.075604 ETA:   0h 0m23s\rProgress:  70.6% words/sec/thread:  194991 lr:  0.029393 avg.loss:  0.075505 ETA:   0h 0m23s\rProgress:  70.8% words/sec/thread:  195060 lr:  0.029236 avg.loss:  0.075432 ETA:   0h 0m23s\rProgress:  70.9% words/sec/thread:  195084 lr:  0.029101 avg.loss:  0.075360 ETA:   0h 0m23s\rProgress:  71.0% words/sec/thread:  195149 lr:  0.028951 avg.loss:  0.075243 ETA:   0h 0m23s\rProgress:  71.2% words/sec/thread:  195221 lr:  0.028799 avg.loss:  0.075153 ETA:   0h 0m22s\rProgress:  71.3% words/sec/thread:  195218 lr:  0.028674 avg.loss:  0.075053 ETA:   0h 0m22s\rProgress:  71.5% words/sec/thread:  195313 lr:  0.028514 avg.loss:  0.074936 ETA:   0h 0m22s\rProgress:  71.6% words/sec/thread:  195399 lr:  0.028356 avg.loss:  0.074833 ETA:   0h 0m22s\rProgress:  71.8% words/sec/thread:  195486 lr:  0.028199 avg.loss:  0.074712 ETA:   0h 0m22s\rProgress:  72.0% words/sec/thread:  195569 lr:  0.028042 avg.loss:  0.074581 ETA:   0h 0m22s\rProgress:  72.1% words/sec/thread:  195647 lr:  0.027888 avg.loss:  0.074498 ETA:   0h 0m22s\rProgress:  72.3% words/sec/thread:  195753 lr:  0.027722 avg.loss:  0.074423 ETA:   0h 0m22s\rProgress:  72.4% words/sec/thread:  195792 lr:  0.027582 avg.loss:  0.074316 ETA:   0h 0m21s\rProgress:  72.6% words/sec/thread:  195871 lr:  0.027426 avg.loss:  0.074242 ETA:   0h 0m21s\rProgress:  72.7% words/sec/thread:  195941 lr:  0.027274 avg.loss:  0.074116 ETA:   0h 0m21s\rProgress:  72.9% words/sec/thread:  195991 lr:  0.027129 avg.loss:  0.073993 ETA:   0h 0m21s\rProgress:  73.0% words/sec/thread:  196042 lr:  0.026984 avg.loss:  0.073828 ETA:   0h 0m21s\rProgress:  73.2% words/sec/thread:  196124 lr:  0.026827 avg.loss:  0.073713 ETA:   0h 0m21s\rProgress:  73.3% words/sec/thread:  196195 lr:  0.026674 avg.loss:  0.073609 ETA:   0h 0m21s\rProgress:  73.5% words/sec/thread:  196276 lr:  0.026518 avg.loss:  0.073500 ETA:   0h 0m21s\rProgress:  73.6% words/sec/thread:  196359 lr:  0.026360 avg.loss:  0.073379 ETA:   0h 0m20s\rProgress:  73.8% words/sec/thread:  196447 lr:  0.026201 avg.loss:  0.073279 ETA:   0h 0m20s\rProgress:  73.9% words/sec/thread:  196459 lr:  0.026070 avg.loss:  0.073195 ETA:   0h 0m20s\rProgress:  74.1% words/sec/thread:  196505 lr:  0.025926 avg.loss:  0.073053 ETA:   0h 0m20s\rProgress:  74.2% words/sec/thread:  196579 lr:  0.025770 avg.loss:  0.072912 ETA:   0h 0m20s\rProgress:  74.4% words/sec/thread:  196630 lr:  0.025624 avg.loss:  0.072830 ETA:   0h 0m20s\rProgress:  74.5% words/sec/thread:  196706 lr:  0.025469 avg.loss:  0.072753 ETA:   0h 0m20s\rProgress:  74.7% words/sec/thread:  196767 lr:  0.025319 avg.loss:  0.072651 ETA:   0h 0m20s\rProgress:  74.8% words/sec/thread:  196825 lr:  0.025170 avg.loss:  0.072544 ETA:   0h 0m19s\rProgress:  75.0% words/sec/thread:  196897 lr:  0.025016 avg.loss:  0.072428 ETA:   0h 0m19s\rProgress:  75.1% words/sec/thread:  196903 lr:  0.024887 avg.loss:  0.072398 ETA:   0h 0m19s\rProgress:  75.3% words/sec/thread:  196969 lr:  0.024735 avg.loss:  0.072271 ETA:   0h 0m19s\rProgress:  75.4% words/sec/thread:  197012 lr:  0.024592 avg.loss:  0.072184 ETA:   0h 0m19s\rProgress:  75.5% words/sec/thread:  197044 lr:  0.024452 avg.loss:  0.072078 ETA:   0h 0m19s\rProgress:  75.7% words/sec/thread:  197105 lr:  0.024301 avg.loss:  0.072049 ETA:   0h 0m19s\rProgress:  75.9% words/sec/thread:  197176 lr:  0.024147 avg.loss:  0.071932 ETA:   0h 0m19s\rProgress:  76.0% words/sec/thread:  197249 lr:  0.023991 avg.loss:  0.071828 ETA:   0h 0m18s\rProgress:  76.2% words/sec/thread:  197310 lr:  0.023840 avg.loss:  0.071713 ETA:   0h 0m18s\rProgress:  76.3% words/sec/thread:  197384 lr:  0.023685 avg.loss:  0.071635 ETA:   0h 0m18s\rProgress:  76.5% words/sec/thread:  197470 lr:  0.023524 avg.loss:  0.071516 ETA:   0h 0m18s\rProgress:  76.6% words/sec/thread:  197538 lr:  0.023371 avg.loss:  0.071425 ETA:   0h 0m18s\rProgress:  76.8% words/sec/thread:  197618 lr:  0.023213 avg.loss:  0.071342 ETA:   0h 0m18s\rProgress:  76.9% words/sec/thread:  197691 lr:  0.023057 avg.loss:  0.071220 ETA:   0h 0m18s\rProgress:  77.1% words/sec/thread:  197700 lr:  0.022926 avg.loss:  0.071162 ETA:   0h 0m18s\rProgress:  77.2% words/sec/thread:  197774 lr:  0.022768 avg.loss:  0.071107 ETA:   0h 0m17s\rProgress:  77.4% words/sec/thread:  197836 lr:  0.022616 avg.loss:  0.070993 ETA:   0h 0m17s\rProgress:  77.5% words/sec/thread:  197931 lr:  0.022452 avg.loss:  0.070850 ETA:   0h 0m17s\rProgress:  77.7% words/sec/thread:  198012 lr:  0.022292 avg.loss:  0.070751 ETA:   0h 0m17s\rProgress:  77.9% words/sec/thread:  198074 lr:  0.022141 avg.loss:  0.070699 ETA:   0h 0m17s\rProgress:  78.0% words/sec/thread:  198161 lr:  0.021979 avg.loss:  0.070605 ETA:   0h 0m17s\rProgress:  78.2% words/sec/thread:  198216 lr:  0.021829 avg.loss:  0.070516 ETA:   0h 0m17s\rProgress:  78.3% words/sec/thread:  198229 lr:  0.021697 avg.loss:  0.070442 ETA:   0h 0m17s\rProgress:  78.4% words/sec/thread:  198124 lr:  0.021611 avg.loss:  0.070371 ETA:   0h 0m16s\rProgress:  78.5% words/sec/thread:  197986 lr:  0.021538 avg.loss:  0.070314 ETA:   0h 0m16s\rProgress:  78.5% words/sec/thread:  197821 lr:  0.021475 avg.loss:  0.070262 ETA:   0h 0m16s\rProgress:  78.6% words/sec/thread:  197747 lr:  0.021377 avg.loss:  0.070214 ETA:   0h 0m16s\rProgress:  78.7% words/sec/thread:  197667 lr:  0.021281 avg.loss:  0.070192 ETA:   0h 0m16s\rProgress:  78.8% words/sec/thread:  197536 lr:  0.021206 avg.loss:  0.070130 ETA:   0h 0m16s\rProgress:  78.9% words/sec/thread:  197395 lr:  0.021135 avg.loss:  0.070072 ETA:   0h 0m16s\rProgress:  78.9% words/sec/thread:  197254 lr:  0.021065 avg.loss:  0.070051 ETA:   0h 0m16s\rProgress:  79.0% words/sec/thread:  197124 lr:  0.020990 avg.loss:  0.070004 ETA:   0h 0m16s\rProgress:  79.1% words/sec/thread:  196985 lr:  0.020918 avg.loss:  0.069953 ETA:   0h 0m16s\rProgress:  79.2% words/sec/thread:  196842 lr:  0.020848 avg.loss:  0.069913 ETA:   0h 0m16s\rProgress:  79.2% words/sec/thread:  196713 lr:  0.020773 avg.loss:  0.069891 ETA:   0h 0m16s\rProgress:  79.3% words/sec/thread:  196584 lr:  0.020699 avg.loss:  0.069860 ETA:   0h 0m16s\rProgress:  79.4% words/sec/thread:  196492 lr:  0.020609 avg.loss:  0.069806 ETA:   0h 0m16s\rProgress:  79.5% words/sec/thread:  196385 lr:  0.020526 avg.loss:  0.069771 ETA:   0h 0m16s\rProgress:  79.5% words/sec/thread:  196251 lr:  0.020454 avg.loss:  0.069723 ETA:   0h 0m16s\rProgress:  79.6% words/sec/thread:  196110 lr:  0.020385 avg.loss:  0.069705 ETA:   0h 0m16s\rProgress:  79.7% words/sec/thread:  195966 lr:  0.020317 avg.loss:  0.069664 ETA:   0h 0m16s\rProgress:  79.8% words/sec/thread:  195833 lr:  0.020245 avg.loss:  0.069618 ETA:   0h 0m16s\rProgress:  79.8% words/sec/thread:  195722 lr:  0.020164 avg.loss:  0.069568 ETA:   0h 0m16s\rProgress:  79.9% words/sec/thread:  195627 lr:  0.020077 avg.loss:  0.069519 ETA:   0h 0m15s\rProgress:  80.0% words/sec/thread:  195500 lr:  0.020003 avg.loss:  0.069466 ETA:   0h 0m15s\rProgress:  80.1% words/sec/thread:  195362 lr:  0.019933 avg.loss:  0.069416 ETA:   0h 0m15s\rProgress:  80.2% words/sec/thread:  195267 lr:  0.019846 avg.loss:  0.069340 ETA:   0h 0m15s\rProgress:  80.2% words/sec/thread:  195183 lr:  0.019754 avg.loss:  0.069290 ETA:   0h 0m15s\rProgress:  80.3% words/sec/thread:  195092 lr:  0.019666 avg.loss:  0.069232 ETA:   0h 0m15s\rProgress:  80.5% words/sec/thread:  195100 lr:  0.019537 avg.loss:  0.069204 ETA:   0h 0m15s\rProgress:  80.6% words/sec/thread:  195187 lr:  0.019376 avg.loss:  0.069123 ETA:   0h 0m15s\rProgress:  80.8% words/sec/thread:  195271 lr:  0.019215 avg.loss:  0.069069 ETA:   0h 0m15s\rProgress:  80.9% words/sec/thread:  195364 lr:  0.019051 avg.loss:  0.068992 ETA:   0h 0m15s\rProgress:  81.1% words/sec/thread:  195473 lr:  0.018880 avg.loss:  0.068913 ETA:   0h 0m15s\rProgress:  81.3% words/sec/thread:  195585 lr:  0.018707 avg.loss:  0.068792 ETA:   0h 0m14s\rProgress:  81.5% words/sec/thread:  195668 lr:  0.018546 avg.loss:  0.068699 ETA:   0h 0m14s\rProgress:  81.6% words/sec/thread:  195719 lr:  0.018399 avg.loss:  0.068636 ETA:   0h 0m14s\rProgress:  81.8% words/sec/thread:  195832 lr:  0.018226 avg.loss:  0.068530 ETA:   0h 0m14s\rProgress:  81.9% words/sec/thread:  195941 lr:  0.018054 avg.loss:  0.068450 ETA:   0h 0m14s\rProgress:  82.1% words/sec/thread:  196053 lr:  0.017881 avg.loss:  0.068327 ETA:   0h 0m14s\rProgress:  82.3% words/sec/thread:  196167 lr:  0.017707 avg.loss:  0.068192 ETA:   0h 0m14s\rProgress:  82.5% words/sec/thread:  196262 lr:  0.017541 avg.loss:  0.068108 ETA:   0h 0m13s\rProgress:  82.6% words/sec/thread:  196363 lr:  0.017372 avg.loss:  0.067997 ETA:   0h 0m13s\rProgress:  82.8% words/sec/thread:  196477 lr:  0.017197 avg.loss:  0.067879 ETA:   0h 0m13s\rProgress:  83.0% words/sec/thread:  196588 lr:  0.017024 avg.loss:  0.067767 ETA:   0h 0m13s\rProgress:  83.1% words/sec/thread:  196680 lr:  0.016857 avg.loss:  0.067668 ETA:   0h 0m13s\rProgress:  83.3% words/sec/thread:  196717 lr:  0.016715 avg.loss:  0.067614 ETA:   0h 0m13s\rProgress:  83.5% words/sec/thread:  196813 lr:  0.016548 avg.loss:  0.067535 ETA:   0h 0m13s\rProgress:  83.6% words/sec/thread:  196901 lr:  0.016383 avg.loss:  0.067427 ETA:   0h 0m12s\rProgress:  83.8% words/sec/thread:  196978 lr:  0.016224 avg.loss:  0.067338 ETA:   0h 0m12s\rProgress:  83.9% words/sec/thread:  197066 lr:  0.016059 avg.loss:  0.067254 ETA:   0h 0m12s\rProgress:  84.1% words/sec/thread:  197161 lr:  0.015892 avg.loss:  0.067178 ETA:   0h 0m12s\rProgress:  84.3% words/sec/thread:  197255 lr:  0.015725 avg.loss:  0.067066 ETA:   0h 0m12s\rProgress:  84.4% words/sec/thread:  197327 lr:  0.015567 avg.loss:  0.066955 ETA:   0h 0m12s\rProgress:  84.6% words/sec/thread:  197414 lr:  0.015403 avg.loss:  0.066932 ETA:   0h 0m12s\rProgress:  84.8% words/sec/thread:  197511 lr:  0.015233 avg.loss:  0.066806 ETA:   0h 0m11s\rProgress:  84.9% words/sec/thread:  197532 lr:  0.015096 avg.loss:  0.066757 ETA:   0h 0m11s\rProgress:  85.1% words/sec/thread:  197617 lr:  0.014932 avg.loss:  0.066686 ETA:   0h 0m11s\rProgress:  85.2% words/sec/thread:  197706 lr:  0.014767 avg.loss:  0.066633 ETA:   0h 0m11s\rProgress:  85.4% words/sec/thread:  197801 lr:  0.014598 avg.loss:  0.066524 ETA:   0h 0m11s\rProgress:  85.6% words/sec/thread:  197894 lr:  0.014431 avg.loss:  0.066438 ETA:   0h 0m11s\rProgress:  85.7% words/sec/thread:  197994 lr:  0.014260 avg.loss:  0.066346 ETA:   0h 0m11s\rProgress:  85.9% words/sec/thread:  198091 lr:  0.014091 avg.loss:  0.066233 ETA:   0h 0m11s\rProgress:  86.1% words/sec/thread:  198151 lr:  0.013937 avg.loss:  0.066194 ETA:   0h 0m10s\rProgress:  86.2% words/sec/thread:  198229 lr:  0.013775 avg.loss:  0.066124 ETA:   0h 0m10s\rProgress:  86.4% words/sec/thread:  198320 lr:  0.013607 avg.loss:  0.066071 ETA:   0h 0m10s\rProgress:  86.5% words/sec/thread:  198373 lr:  0.013454 avg.loss:  0.065994 ETA:   0h 0m10s\rProgress:  86.7% words/sec/thread:  198447 lr:  0.013294 avg.loss:  0.065944 ETA:   0h 0m10s\rProgress:  86.9% words/sec/thread:  198540 lr:  0.013125 avg.loss:  0.065875 ETA:   0h 0m10s\rProgress:  87.0% words/sec/thread:  198648 lr:  0.012951 avg.loss:  0.065793 ETA:   0h 0m10s\rProgress:  87.2% words/sec/thread:  198758 lr:  0.012774 avg.loss:  0.065716 ETA:   0h 0m 9s\rProgress:  87.4% words/sec/thread:  198872 lr:  0.012596 avg.loss:  0.065612 ETA:   0h 0m 9s\rProgress:  87.6% words/sec/thread:  198982 lr:  0.012419 avg.loss:  0.065513 ETA:   0h 0m 9s\rProgress:  87.7% words/sec/thread:  199028 lr:  0.012271 avg.loss:  0.065505 ETA:   0h 0m 9s\rProgress:  87.9% words/sec/thread:  199047 lr:  0.012134 avg.loss:  0.065449 ETA:   0h 0m 9s\rProgress:  88.0% words/sec/thread:  199113 lr:  0.011977 avg.loss:  0.065427 ETA:   0h 0m 9s\rProgress:  88.2% words/sec/thread:  199186 lr:  0.011814 avg.loss:  0.065407 ETA:   0h 0m 9s\rProgress:  88.3% words/sec/thread:  199199 lr:  0.011680 avg.loss:  0.065363 ETA:   0h 0m 9s\rProgress:  88.5% words/sec/thread:  199270 lr:  0.011520 avg.loss:  0.065280 ETA:   0h 0m 8s\rProgress:  88.6% words/sec/thread:  199351 lr:  0.011356 avg.loss:  0.065211 ETA:   0h 0m 8s\rProgress:  88.8% words/sec/thread:  199426 lr:  0.011194 avg.loss:  0.065107 ETA:   0h 0m 8s\rProgress:  89.0% words/sec/thread:  199505 lr:  0.011030 avg.loss:  0.065049 ETA:   0h 0m 8s\rProgress:  89.1% words/sec/thread:  199536 lr:  0.010888 avg.loss:  0.064971 ETA:   0h 0m 8s\rProgress:  89.3% words/sec/thread:  199597 lr:  0.010732 avg.loss:  0.064904 ETA:   0h 0m 8s\rProgress:  89.4% words/sec/thread:  199686 lr:  0.010564 avg.loss:  0.064912 ETA:   0h 0m 8s\rProgress:  89.6% words/sec/thread:  199777 lr:  0.010394 avg.loss:  0.064822 ETA:   0h 0m 8s\rProgress:  89.8% words/sec/thread:  199853 lr:  0.010232 avg.loss:  0.064776 ETA:   0h 0m 7s\rProgress:  89.9% words/sec/thread:  199793 lr:  0.010130 avg.loss:  0.064734 ETA:   0h 0m 7s\rProgress:  90.0% words/sec/thread:  199880 lr:  0.009962 avg.loss:  0.064620 ETA:   0h 0m 7s\rProgress:  90.2% words/sec/thread:  199971 lr:  0.009792 avg.loss:  0.064522 ETA:   0h 0m 7s\rProgress:  90.4% words/sec/thread:  200083 lr:  0.009613 avg.loss:  0.064436 ETA:   0h 0m 7s\rProgress:  90.6% words/sec/thread:  200181 lr:  0.009439 avg.loss:  0.064337 ETA:   0h 0m 7s\rProgress:  90.7% words/sec/thread:  200275 lr:  0.009268 avg.loss:  0.064273 ETA:   0h 0m 7s\rProgress:  90.9% words/sec/thread:  200372 lr:  0.009095 avg.loss:  0.064176 ETA:   0h 0m 7s\rProgress:  91.1% words/sec/thread:  200480 lr:  0.008917 avg.loss:  0.064156 ETA:   0h 0m 6s\rProgress:  91.3% words/sec/thread:  200566 lr:  0.008749 avg.loss:  0.064076 ETA:   0h 0m 6s\rProgress:  91.4% words/sec/thread:  200662 lr:  0.008575 avg.loss:  0.064012 ETA:   0h 0m 6s\rProgress:  91.6% words/sec/thread:  200719 lr:  0.008414 avg.loss:  0.063951 ETA:   0h 0m 6s\rProgress:  91.8% words/sec/thread:  200795 lr:  0.008250 avg.loss:  0.063883 ETA:   0h 0m 6s\rProgress:  91.9% words/sec/thread:  200867 lr:  0.008087 avg.loss:  0.063793 ETA:   0h 0m 6s\rProgress:  92.1% words/sec/thread:  200984 lr:  0.007905 avg.loss:  0.063724 ETA:   0h 0m 6s\rProgress:  92.3% words/sec/thread:  201090 lr:  0.007727 avg.loss:  0.063621 ETA:   0h 0m 5s\rProgress:  92.4% words/sec/thread:  201177 lr:  0.007557 avg.loss:  0.063543 ETA:   0h 0m 5s\rProgress:  92.6% words/sec/thread:  201278 lr:  0.007381 avg.loss:  0.063451 ETA:   0h 0m 5s\rProgress:  92.8% words/sec/thread:  201370 lr:  0.007209 avg.loss:  0.063387 ETA:   0h 0m 5s\rProgress:  93.0% words/sec/thread:  201450 lr:  0.007042 avg.loss:  0.063317 ETA:   0h 0m 5s\rProgress:  93.1% words/sec/thread:  201531 lr:  0.006875 avg.loss:  0.063218 ETA:   0h 0m 5s\rProgress:  93.3% words/sec/thread:  201563 lr:  0.006731 avg.loss:  0.063113 ETA:   0h 0m 5s\rProgress:  93.4% words/sec/thread:  201584 lr:  0.006591 avg.loss:  0.063083 ETA:   0h 0m 5s\rProgress:  93.6% words/sec/thread:  201659 lr:  0.006426 avg.loss:  0.063016 ETA:   0h 0m 4s\rProgress:  93.7% words/sec/thread:  201754 lr:  0.006252 avg.loss:  0.062949 ETA:   0h 0m 4s\rProgress:  93.9% words/sec/thread:  201859 lr:  0.006073 avg.loss:  0.062864 ETA:   0h 0m 4s\rProgress:  94.1% words/sec/thread:  201941 lr:  0.005905 avg.loss:  0.062816 ETA:   0h 0m 4s\rProgress:  94.3% words/sec/thread:  202021 lr:  0.005738 avg.loss:  0.062728 ETA:   0h 0m 4s\rProgress:  94.4% words/sec/thread:  202109 lr:  0.005567 avg.loss:  0.062687 ETA:   0h 0m 4s\rProgress:  94.6% words/sec/thread:  202208 lr:  0.005390 avg.loss:  0.062623 ETA:   0h 0m 4s\rProgress:  94.8% words/sec/thread:  202307 lr:  0.005213 avg.loss:  0.062563 ETA:   0h 0m 4s\rProgress:  95.0% words/sec/thread:  202381 lr:  0.005048 avg.loss:  0.062503 ETA:   0h 0m 3s\rProgress:  95.1% words/sec/thread:  202362 lr:  0.004927 avg.loss:  0.062447 ETA:   0h 0m 3s\rProgress:  95.3% words/sec/thread:  202467 lr:  0.004747 avg.loss:  0.062381 ETA:   0h 0m 3s\rProgress:  95.4% words/sec/thread:  202568 lr:  0.004569 avg.loss:  0.062316 ETA:   0h 0m 3s\rProgress:  95.6% words/sec/thread:  202669 lr:  0.004391 avg.loss:  0.062245 ETA:   0h 0m 3s\rProgress:  95.8% words/sec/thread:  202765 lr:  0.004215 avg.loss:  0.062168 ETA:   0h 0m 3s\rProgress:  96.0% words/sec/thread:  202857 lr:  0.004041 avg.loss:  0.062103 ETA:   0h 0m 3s\rProgress:  96.1% words/sec/thread:  202948 lr:  0.003867 avg.loss:  0.062055 ETA:   0h 0m 2s\rProgress:  96.3% words/sec/thread:  203025 lr:  0.003700 avg.loss:  0.061992 ETA:   0h 0m 2s\rProgress:  96.5% words/sec/thread:  203095 lr:  0.003536 avg.loss:  0.061923 ETA:   0h 0m 2s\rProgress:  96.6% words/sec/thread:  203166 lr:  0.003371 avg.loss:  0.061860 ETA:   0h 0m 2s\rProgress:  96.8% words/sec/thread:  203178 lr:  0.003232 avg.loss:  0.061822 ETA:   0h 0m 2s\rProgress:  96.9% words/sec/thread:  203099 lr:  0.003135 avg.loss:  0.061775 ETA:   0h 0m 2s\rProgress:  97.0% words/sec/thread:  203015 lr:  0.003045 avg.loss:  0.061739 ETA:   0h 0m 2s\rProgress:  97.0% words/sec/thread:  202926 lr:  0.002952 avg.loss:  0.061699 ETA:   0h 0m 2s\rProgress:  97.1% words/sec/thread:  202839 lr:  0.002862 avg.loss:  0.061665 ETA:   0h 0m 2s\rProgress:  97.3% words/sec/thread:  202773 lr:  0.002749 avg.loss:  0.061603 ETA:   0h 0m 2s\rProgress:  97.3% words/sec/thread:  202684 lr:  0.002662 avg.loss:  0.061571 ETA:   0h 0m 2s\rProgress:  97.4% words/sec/thread:  202560 lr:  0.002591 avg.loss:  0.061547 ETA:   0h 0m 1s\rProgress:  97.5% words/sec/thread:  202474 lr:  0.002500 avg.loss:  0.061492 ETA:   0h 0m 1s\rProgress:  97.6% words/sec/thread:  202399 lr:  0.002405 avg.loss:  0.061433 ETA:   0h 0m 1s\rProgress:  97.7% words/sec/thread:  202300 lr:  0.002306 avg.loss:  0.061388 ETA:   0h 0m 1s\rProgress:  97.8% words/sec/thread:  202187 lr:  0.002229 avg.loss:  0.061357 ETA:   0h 0m 1s\rProgress:  97.8% words/sec/thread:  202071 lr:  0.002153 avg.loss:  0.061326 ETA:   0h 0m 1s\rProgress:  97.9% words/sec/thread:  201987 lr:  0.002060 avg.loss:  0.061311 ETA:   0h 0m 1s\rProgress:  98.0% words/sec/thread:  201875 lr:  0.001952 avg.loss:  0.061267 ETA:   0h 0m 1s\rProgress:  98.1% words/sec/thread:  201764 lr:  0.001875 avg.loss:  0.061225 ETA:   0h 0m 1s\rProgress:  98.2% words/sec/thread:  201640 lr:  0.001798 avg.loss:  0.061204 ETA:   0h 0m 1s\rProgress:  98.3% words/sec/thread:  201518 lr:  0.001720 avg.loss:  0.061162 ETA:   0h 0m 1s\rProgress:  98.4% words/sec/thread:  201400 lr:  0.001638 avg.loss:  0.061150 ETA:   0h 0m 1s\rProgress:  98.5% words/sec/thread:  201295 lr:  0.001545 avg.loss:  0.061111 ETA:   0h 0m 1s\rProgress:  98.6% words/sec/thread:  201225 lr:  0.001449 avg.loss:  0.061069 ETA:   0h 0m 1s\rProgress:  98.7% words/sec/thread:  201195 lr:  0.001334 avg.loss:  0.061003 ETA:   0h 0m 1s\rProgress:  98.8% words/sec/thread:  201130 lr:  0.001233 avg.loss:  0.060962 ETA:   0h 0m 0s\rProgress:  98.9% words/sec/thread:  201054 lr:  0.001138 avg.loss:  0.060916 ETA:   0h 0m 0s\rProgress:  98.9% words/sec/thread:  200959 lr:  0.001053 avg.loss:  0.060869 ETA:   0h 0m 0s\rProgress:  99.0% words/sec/thread:  200875 lr:  0.000964 avg.loss:  0.060846 ETA:   0h 0m 0s\rProgress:  99.2% words/sec/thread:  200865 lr:  0.000838 avg.loss:  0.060802 ETA:   0h 0m 0s\rProgress:  99.3% words/sec/thread:  200957 lr:  0.000663 avg.loss:  0.060691 ETA:   0h 0m 0s\rProgress:  99.5% words/sec/thread:  201041 lr:  0.000492 avg.loss:  0.060611 ETA:   0h 0m 0s\rProgress:  99.7% words/sec/thread:  201115 lr:  0.000326 avg.loss:  0.060530 ETA:   0h 0m 0s\rProgress:  99.9% words/sec/thread:  201215 lr:  0.000146 avg.loss:  0.060436 ETA:   0h 0m 0s\rProgress: 100.0% words/sec/thread:  201249 lr: -0.000000 avg.loss:  0.060378 ETA:   0h 0m 0s\rProgress: 100.0% words/sec/thread:  201249 lr:  0.000000 avg.loss:  0.060378 ETA:   0h 0m 0s\n"
          ]
        }
      ]
    },
    {
      "cell_type": "markdown",
      "source": [
        "Test the accuracy of the trained model in the evaluation data set."
      ],
      "metadata": {
        "id": "n1S3CiOFgSF-"
      }
    },
    {
      "cell_type": "code",
      "source": [
        "%%bash\n",
        "/content/fastText/fasttext test /content/model/europarl.bin /content/europarl.eval"
      ],
      "metadata": {
        "id": "gaAugAbcEnM5",
        "colab": {
          "base_uri": "https://localhost:8080/"
        },
        "outputId": "c7849b15-e112-4364-e539-b5c25c7cefd3"
      },
      "execution_count": 34,
      "outputs": [
        {
          "output_type": "stream",
          "name": "stdout",
          "text": [
            "N\t202305\n",
            "P@1\t0.989\n",
            "R@1\t0.989\n"
          ]
        }
      ]
    },
    {
      "cell_type": "code",
      "source": [],
      "metadata": {
        "id": "Q_f77ETJZkev"
      },
      "execution_count": null,
      "outputs": []
    },
    {
      "cell_type": "markdown",
      "source": [
        "The accuracy is 98.9%."
      ],
      "metadata": {
        "id": "QjGUOCyRWpSE"
      }
    },
    {
      "cell_type": "markdown",
      "source": [
        "Predict using the trained model"
      ],
      "metadata": {
        "id": "2o_hmIrkEnSb"
      }
    },
    {
      "cell_type": "code",
      "source": [
        "!pip3 install fasttext"
      ],
      "metadata": {
        "colab": {
          "base_uri": "https://localhost:8080/"
        },
        "id": "pL2FMfc6Cbfo",
        "outputId": "21b7c2e6-d23b-435f-94a0-2132c1577670"
      },
      "execution_count": 7,
      "outputs": [
        {
          "output_type": "stream",
          "name": "stdout",
          "text": [
            "Collecting fasttext\n",
            "  Downloading fasttext-0.9.2.tar.gz (68 kB)\n",
            "\u001b[?25l     \u001b[90m━━━━━━━━━━━━━━━━━━━━━━━━━━━━━━━━━━━━━━━━\u001b[0m \u001b[32m0.0/68.8 kB\u001b[0m \u001b[31m?\u001b[0m eta \u001b[36m-:--:--\u001b[0m\r\u001b[2K     \u001b[90m━━━━━━━━━━━━━━━━━━━━━━━━━━━━━━━━━━━━━━━━\u001b[0m \u001b[32m68.8/68.8 kB\u001b[0m \u001b[31m2.0 MB/s\u001b[0m eta \u001b[36m0:00:00\u001b[0m\n",
            "\u001b[?25h  Preparing metadata (setup.py) ... \u001b[?25l\u001b[?25hdone\n",
            "Collecting pybind11>=2.2 (from fasttext)\n",
            "  Using cached pybind11-2.11.1-py3-none-any.whl (227 kB)\n",
            "Requirement already satisfied: setuptools>=0.7.0 in /usr/local/lib/python3.10/dist-packages (from fasttext) (67.7.2)\n",
            "Requirement already satisfied: numpy in /usr/local/lib/python3.10/dist-packages (from fasttext) (1.22.4)\n",
            "Building wheels for collected packages: fasttext\n",
            "  Building wheel for fasttext (setup.py) ... \u001b[?25l\u001b[?25hdone\n",
            "  Created wheel for fasttext: filename=fasttext-0.9.2-cp310-cp310-linux_x86_64.whl size=4199678 sha256=e3bcb46b023231d3c6342b8456bb613619644b907ba012bbc7d886551c8de941\n",
            "  Stored in directory: /root/.cache/pip/wheels/a5/13/75/f811c84a8ab36eedbaef977a6a58a98990e8e0f1967f98f394\n",
            "Successfully built fasttext\n",
            "Installing collected packages: pybind11, fasttext\n",
            "Successfully installed fasttext-0.9.2 pybind11-2.11.1\n"
          ]
        }
      ]
    },
    {
      "cell_type": "code",
      "source": [
        "import fasttext as ft"
      ],
      "metadata": {
        "id": "_1857qy7qOgF"
      },
      "execution_count": 35,
      "outputs": []
    },
    {
      "cell_type": "code",
      "source": [
        "model = ft.load_model('/content/model/europarl.bin')"
      ],
      "metadata": {
        "id": "b8JDbnozqQ4J",
        "colab": {
          "base_uri": "https://localhost:8080/"
        },
        "outputId": "cc54f62e-9cc4-4b38-9bd1-8b77b9d55857"
      },
      "execution_count": 36,
      "outputs": [
        {
          "output_type": "stream",
          "name": "stderr",
          "text": [
            "Warning : `load_model` does not return WordVectorModel or SupervisedModel any more, but a `FastText` object which is very similar.\n"
          ]
        }
      ]
    },
    {
      "cell_type": "code",
      "source": [
        "text = open('/content/europarl.test').readlines()"
      ],
      "metadata": {
        "id": "6bswml6DexTS"
      },
      "execution_count": 38,
      "outputs": []
    },
    {
      "cell_type": "code",
      "source": [
        "predictions = model.predict(text)"
      ],
      "metadata": {
        "colab": {
          "base_uri": "https://localhost:8080/",
          "height": 318
        },
        "id": "PXO7O6UjexWF",
        "outputId": "48ad77b9-bcc6-48b7-cad6-e61df4947777"
      },
      "execution_count": 40,
      "outputs": [
        {
          "output_type": "error",
          "ename": "ValueError",
          "evalue": "ignored",
          "traceback": [
            "\u001b[0;31m---------------------------------------------------------------------------\u001b[0m",
            "\u001b[0;31mValueError\u001b[0m                                Traceback (most recent call last)",
            "\u001b[0;32m<ipython-input-40-373e8ca557a0>\u001b[0m in \u001b[0;36m<cell line: 1>\u001b[0;34m()\u001b[0m\n\u001b[0;32m----> 1\u001b[0;31m \u001b[0mpredictions\u001b[0m \u001b[0;34m=\u001b[0m \u001b[0mmodel\u001b[0m\u001b[0;34m.\u001b[0m\u001b[0mpredict\u001b[0m\u001b[0;34m(\u001b[0m\u001b[0mtext\u001b[0m\u001b[0;34m)\u001b[0m\u001b[0;34m\u001b[0m\u001b[0;34m\u001b[0m\u001b[0m\n\u001b[0m",
            "\u001b[0;32m/usr/local/lib/python3.10/dist-packages/fasttext/FastText.py\u001b[0m in \u001b[0;36mpredict\u001b[0;34m(self, text, k, threshold, on_unicode_error)\u001b[0m\n\u001b[1;32m    217\u001b[0m \u001b[0;34m\u001b[0m\u001b[0m\n\u001b[1;32m    218\u001b[0m         \u001b[0;32mif\u001b[0m \u001b[0mtype\u001b[0m\u001b[0;34m(\u001b[0m\u001b[0mtext\u001b[0m\u001b[0;34m)\u001b[0m \u001b[0;34m==\u001b[0m \u001b[0mlist\u001b[0m\u001b[0;34m:\u001b[0m\u001b[0;34m\u001b[0m\u001b[0;34m\u001b[0m\u001b[0m\n\u001b[0;32m--> 219\u001b[0;31m             \u001b[0mtext\u001b[0m \u001b[0;34m=\u001b[0m \u001b[0;34m[\u001b[0m\u001b[0mcheck\u001b[0m\u001b[0;34m(\u001b[0m\u001b[0mentry\u001b[0m\u001b[0;34m)\u001b[0m \u001b[0;32mfor\u001b[0m \u001b[0mentry\u001b[0m \u001b[0;32min\u001b[0m \u001b[0mtext\u001b[0m\u001b[0;34m]\u001b[0m\u001b[0;34m\u001b[0m\u001b[0;34m\u001b[0m\u001b[0m\n\u001b[0m\u001b[1;32m    220\u001b[0m             all_labels, all_probs = self.f.multilinePredict(\n\u001b[1;32m    221\u001b[0m                 text, k, threshold, on_unicode_error)\n",
            "\u001b[0;32m/usr/local/lib/python3.10/dist-packages/fasttext/FastText.py\u001b[0m in \u001b[0;36m<listcomp>\u001b[0;34m(.0)\u001b[0m\n\u001b[1;32m    217\u001b[0m \u001b[0;34m\u001b[0m\u001b[0m\n\u001b[1;32m    218\u001b[0m         \u001b[0;32mif\u001b[0m \u001b[0mtype\u001b[0m\u001b[0;34m(\u001b[0m\u001b[0mtext\u001b[0m\u001b[0;34m)\u001b[0m \u001b[0;34m==\u001b[0m \u001b[0mlist\u001b[0m\u001b[0;34m:\u001b[0m\u001b[0;34m\u001b[0m\u001b[0;34m\u001b[0m\u001b[0m\n\u001b[0;32m--> 219\u001b[0;31m             \u001b[0mtext\u001b[0m \u001b[0;34m=\u001b[0m \u001b[0;34m[\u001b[0m\u001b[0mcheck\u001b[0m\u001b[0;34m(\u001b[0m\u001b[0mentry\u001b[0m\u001b[0;34m)\u001b[0m \u001b[0;32mfor\u001b[0m \u001b[0mentry\u001b[0m \u001b[0;32min\u001b[0m \u001b[0mtext\u001b[0m\u001b[0;34m]\u001b[0m\u001b[0;34m\u001b[0m\u001b[0;34m\u001b[0m\u001b[0m\n\u001b[0m\u001b[1;32m    220\u001b[0m             all_labels, all_probs = self.f.multilinePredict(\n\u001b[1;32m    221\u001b[0m                 text, k, threshold, on_unicode_error)\n",
            "\u001b[0;32m/usr/local/lib/python3.10/dist-packages/fasttext/FastText.py\u001b[0m in \u001b[0;36mcheck\u001b[0;34m(entry)\u001b[0m\n\u001b[1;32m    210\u001b[0m         \u001b[0;32mdef\u001b[0m \u001b[0mcheck\u001b[0m\u001b[0;34m(\u001b[0m\u001b[0mentry\u001b[0m\u001b[0;34m)\u001b[0m\u001b[0;34m:\u001b[0m\u001b[0;34m\u001b[0m\u001b[0;34m\u001b[0m\u001b[0m\n\u001b[1;32m    211\u001b[0m             \u001b[0;32mif\u001b[0m \u001b[0mentry\u001b[0m\u001b[0;34m.\u001b[0m\u001b[0mfind\u001b[0m\u001b[0;34m(\u001b[0m\u001b[0;34m'\\n'\u001b[0m\u001b[0;34m)\u001b[0m \u001b[0;34m!=\u001b[0m \u001b[0;34m-\u001b[0m\u001b[0;36m1\u001b[0m\u001b[0;34m:\u001b[0m\u001b[0;34m\u001b[0m\u001b[0;34m\u001b[0m\u001b[0m\n\u001b[0;32m--> 212\u001b[0;31m                 raise ValueError(\n\u001b[0m\u001b[1;32m    213\u001b[0m                     \u001b[0;34m\"predict processes one line at a time (remove \\'\\\\n\\')\"\u001b[0m\u001b[0;34m\u001b[0m\u001b[0;34m\u001b[0m\u001b[0m\n\u001b[1;32m    214\u001b[0m                 )\n",
            "\u001b[0;31mValueError\u001b[0m: predict processes one line at a time (remove '\\n')"
          ]
        }
      ]
    },
    {
      "cell_type": "code",
      "source": [
        "predictions[:10]"
      ],
      "metadata": {
        "id": "voq2wquWexY3"
      },
      "execution_count": null,
      "outputs": []
    },
    {
      "cell_type": "markdown",
      "source": [
        "Test the accuracy of the trained model on the test data set"
      ],
      "metadata": {
        "id": "E1RbqaqzgeSy"
      }
    },
    {
      "cell_type": "code",
      "source": [
        "def normalize_text(row):\n",
        "    \"\"\"make text exmaple \"\"\"\n",
        "    label = '__label__' + str(row['lang'])\n",
        "    txt = str(row['text'])\n",
        "\n",
        "    return ' '.join(( label + ' , ' + txt ).split())"
      ],
      "metadata": {
        "id": "UR7Ox12dgff_"
      },
      "execution_count": 41,
      "outputs": []
    },
    {
      "cell_type": "code",
      "source": [
        "test = pd.read_csv('/content/europarl.test', sep='\\t', names=['lang', 'text'])\n",
        "test['normalized'] = test.apply(lambda row: normalize_text(row), axis=1)\n",
        "test = test.reindex(np.random.permutation(test.index)).reset_index(drop=True)\n",
        "np.savetxt('/content/europarl_normalized.test', test['normalized'].values, fmt='%s')"
      ],
      "metadata": {
        "id": "6l2zTsLBgfj0"
      },
      "execution_count": 43,
      "outputs": []
    },
    {
      "cell_type": "code",
      "source": [
        "%%bash\n",
        "/content/fastText/fasttext test /content/model/europarl.bin /content/europarl_normalized.test"
      ],
      "metadata": {
        "id": "5Xu-RWVNgfl8",
        "colab": {
          "base_uri": "https://localhost:8080/"
        },
        "outputId": "05762d5e-686e-41e0-c4ec-3e3b1e0027b4"
      },
      "execution_count": 44,
      "outputs": [
        {
          "output_type": "stream",
          "name": "stdout",
          "text": [
            "N\t20828\n",
            "P@1\t0.981\n",
            "R@1\t0.981\n"
          ]
        }
      ]
    },
    {
      "cell_type": "markdown",
      "source": [
        "The accuracy on training dataset is 98.1%."
      ],
      "metadata": {
        "id": "OXeqQtqtZY-1"
      }
    },
    {
      "cell_type": "markdown",
      "source": [
        "**Fasttext pretrained model**"
      ],
      "metadata": {
        "id": "azP9jIjxEH1L"
      }
    },
    {
      "cell_type": "code",
      "source": [
        "pretrained_text = (\"Hago contenido con mucho esfuerzo, \"\n",
        "          \"sería muy motivador si pudieras\"\n",
        "          \"suscribirte a mi canal\")"
      ],
      "metadata": {
        "id": "0vOnl_WQbRdu"
      },
      "execution_count": 52,
      "outputs": []
    },
    {
      "cell_type": "code",
      "source": [
        "!wget https://dl.fbaipublicfiles.com/fasttext/supervised-models/lid.176.bin"
      ],
      "metadata": {
        "colab": {
          "base_uri": "https://localhost:8080/"
        },
        "id": "oId2FbxpEH32",
        "outputId": "771c7e84-1f12-4c85-d0c8-d5db07f48491"
      },
      "execution_count": 45,
      "outputs": [
        {
          "output_type": "stream",
          "name": "stdout",
          "text": [
            "--2023-07-31 14:42:24--  https://dl.fbaipublicfiles.com/fasttext/supervised-models/lid.176.bin\n",
            "Resolving dl.fbaipublicfiles.com (dl.fbaipublicfiles.com)... 18.165.83.35, 18.165.83.79, 18.165.83.91, ...\n",
            "Connecting to dl.fbaipublicfiles.com (dl.fbaipublicfiles.com)|18.165.83.35|:443... connected.\n",
            "HTTP request sent, awaiting response... 200 OK\n",
            "Length: 131266198 (125M) [application/octet-stream]\n",
            "Saving to: ‘lid.176.bin’\n",
            "\n",
            "lid.176.bin         100%[===================>] 125.18M   247MB/s    in 0.5s    \n",
            "\n",
            "2023-07-31 14:42:24 (247 MB/s) - ‘lid.176.bin’ saved [131266198/131266198]\n",
            "\n"
          ]
        }
      ]
    },
    {
      "cell_type": "code",
      "source": [
        "model_loc = '/content/lid.176.bin'\n",
        "model = ft.load_model(model_loc)"
      ],
      "metadata": {
        "colab": {
          "base_uri": "https://localhost:8080/"
        },
        "id": "OSJI5SiNEH61",
        "outputId": "fdb021bf-6539-43f6-e1ea-1c956de11195"
      },
      "execution_count": 47,
      "outputs": [
        {
          "output_type": "stream",
          "name": "stderr",
          "text": [
            "Warning : `load_model` does not return WordVectorModel or SupervisedModel any more, but a `FastText` object which is very similar.\n"
          ]
        }
      ]
    },
    {
      "cell_type": "code",
      "source": [
        "print(pretrained_text)"
      ],
      "metadata": {
        "colab": {
          "base_uri": "https://localhost:8080/"
        },
        "id": "oCYwl6oDEdzs",
        "outputId": "387e4046-9030-494b-fc63-e275ce26d83e"
      },
      "execution_count": 53,
      "outputs": [
        {
          "output_type": "stream",
          "name": "stdout",
          "text": [
            "Hago contenido con mucho esfuerzo, sería muy motivador si pudierassuscribirte a mi canal\n"
          ]
        }
      ]
    },
    {
      "cell_type": "code",
      "source": [
        "result = model.predict(pretrained_text)\n",
        "print(result)"
      ],
      "metadata": {
        "colab": {
          "base_uri": "https://localhost:8080/"
        },
        "id": "gNLc1m3SEH9E",
        "outputId": "3502119e-e2eb-4aa1-f452-ccf7fab3faf8"
      },
      "execution_count": 54,
      "outputs": [
        {
          "output_type": "stream",
          "name": "stdout",
          "text": [
            "(('__label__es',), array([0.99334759]))\n"
          ]
        }
      ]
    },
    {
      "cell_type": "markdown",
      "source": [
        "Pretrained model predicted the text as Spanish(language code 'es'), the probability is 0.99."
      ],
      "metadata": {
        "id": "lXW2y65UdO0C"
      }
    },
    {
      "cell_type": "markdown",
      "source": [
        "**Google Translate: translate into English**"
      ],
      "metadata": {
        "id": "vWVrRFETsDdA"
      }
    },
    {
      "cell_type": "code",
      "source": [
        "!pip install googletrans==3.1.0a0"
      ],
      "metadata": {
        "id": "IoTohZY5sFAp",
        "colab": {
          "base_uri": "https://localhost:8080/",
          "height": 964
        },
        "outputId": "af6855c9-cdc8-419a-8118-6ce1c1ffff34"
      },
      "execution_count": 57,
      "outputs": [
        {
          "output_type": "stream",
          "name": "stdout",
          "text": [
            "Collecting googletrans==3.1.0a0\n",
            "  Downloading googletrans-3.1.0a0.tar.gz (19 kB)\n",
            "  Preparing metadata (setup.py) ... \u001b[?25l\u001b[?25hdone\n",
            "Collecting httpx==0.13.3 (from googletrans==3.1.0a0)\n",
            "  Downloading httpx-0.13.3-py3-none-any.whl (55 kB)\n",
            "\u001b[2K     \u001b[90m━━━━━━━━━━━━━━━━━━━━━━━━━━━━━━━━━━━━━━━━\u001b[0m \u001b[32m55.1/55.1 kB\u001b[0m \u001b[31m1.5 MB/s\u001b[0m eta \u001b[36m0:00:00\u001b[0m\n",
            "\u001b[?25hRequirement already satisfied: certifi in /usr/local/lib/python3.10/dist-packages (from httpx==0.13.3->googletrans==3.1.0a0) (2023.7.22)\n",
            "Collecting hstspreload (from httpx==0.13.3->googletrans==3.1.0a0)\n",
            "  Downloading hstspreload-2023.1.1-py3-none-any.whl (1.5 MB)\n",
            "\u001b[2K     \u001b[90m━━━━━━━━━━━━━━━━━━━━━━━━━━━━━━━━━━━━━━━━\u001b[0m \u001b[32m1.5/1.5 MB\u001b[0m \u001b[31m19.0 MB/s\u001b[0m eta \u001b[36m0:00:00\u001b[0m\n",
            "\u001b[?25hRequirement already satisfied: sniffio in /usr/local/lib/python3.10/dist-packages (from httpx==0.13.3->googletrans==3.1.0a0) (1.3.0)\n",
            "Collecting chardet==3.* (from httpx==0.13.3->googletrans==3.1.0a0)\n",
            "  Downloading chardet-3.0.4-py2.py3-none-any.whl (133 kB)\n",
            "\u001b[2K     \u001b[90m━━━━━━━━━━━━━━━━━━━━━━━━━━━━━━━━━━━━━━\u001b[0m \u001b[32m133.4/133.4 kB\u001b[0m \u001b[31m14.1 MB/s\u001b[0m eta \u001b[36m0:00:00\u001b[0m\n",
            "\u001b[?25hCollecting idna==2.* (from httpx==0.13.3->googletrans==3.1.0a0)\n",
            "  Downloading idna-2.10-py2.py3-none-any.whl (58 kB)\n",
            "\u001b[2K     \u001b[90m━━━━━━━━━━━━━━━━━━━━━━━━━━━━━━━━━━━━━━━━\u001b[0m \u001b[32m58.8/58.8 kB\u001b[0m \u001b[31m6.6 MB/s\u001b[0m eta \u001b[36m0:00:00\u001b[0m\n",
            "\u001b[?25hCollecting rfc3986<2,>=1.3 (from httpx==0.13.3->googletrans==3.1.0a0)\n",
            "  Downloading rfc3986-1.5.0-py2.py3-none-any.whl (31 kB)\n",
            "Collecting httpcore==0.9.* (from httpx==0.13.3->googletrans==3.1.0a0)\n",
            "  Downloading httpcore-0.9.1-py3-none-any.whl (42 kB)\n",
            "\u001b[2K     \u001b[90m━━━━━━━━━━━━━━━━━━━━━━━━━━━━━━━━━━━━━━━━\u001b[0m \u001b[32m42.6/42.6 kB\u001b[0m \u001b[31m3.6 MB/s\u001b[0m eta \u001b[36m0:00:00\u001b[0m\n",
            "\u001b[?25hCollecting h11<0.10,>=0.8 (from httpcore==0.9.*->httpx==0.13.3->googletrans==3.1.0a0)\n",
            "  Downloading h11-0.9.0-py2.py3-none-any.whl (53 kB)\n",
            "\u001b[2K     \u001b[90m━━━━━━━━━━━━━━━━━━━━━━━━━━━━━━━━━━━━━━━━\u001b[0m \u001b[32m53.6/53.6 kB\u001b[0m \u001b[31m5.3 MB/s\u001b[0m eta \u001b[36m0:00:00\u001b[0m\n",
            "\u001b[?25hCollecting h2==3.* (from httpcore==0.9.*->httpx==0.13.3->googletrans==3.1.0a0)\n",
            "  Downloading h2-3.2.0-py2.py3-none-any.whl (65 kB)\n",
            "\u001b[2K     \u001b[90m━━━━━━━━━━━━━━━━━━━━━━━━━━━━━━━━━━━━━━━━\u001b[0m \u001b[32m65.0/65.0 kB\u001b[0m \u001b[31m6.8 MB/s\u001b[0m eta \u001b[36m0:00:00\u001b[0m\n",
            "\u001b[?25hCollecting hyperframe<6,>=5.2.0 (from h2==3.*->httpcore==0.9.*->httpx==0.13.3->googletrans==3.1.0a0)\n",
            "  Downloading hyperframe-5.2.0-py2.py3-none-any.whl (12 kB)\n",
            "Collecting hpack<4,>=3.0 (from h2==3.*->httpcore==0.9.*->httpx==0.13.3->googletrans==3.1.0a0)\n",
            "  Downloading hpack-3.0.0-py2.py3-none-any.whl (38 kB)\n",
            "Building wheels for collected packages: googletrans\n",
            "  Building wheel for googletrans (setup.py) ... \u001b[?25l\u001b[?25hdone\n",
            "  Created wheel for googletrans: filename=googletrans-3.1.0a0-py3-none-any.whl size=16352 sha256=e0573140fde99aa860d7f49f44331763ac0af34d08ffdb1b9fd065e6a62e9dc5\n",
            "  Stored in directory: /root/.cache/pip/wheels/50/5d/3c/8477d0af4ca2b8b1308812c09f1930863caeebc762fe265a95\n",
            "Successfully built googletrans\n",
            "Installing collected packages: rfc3986, hyperframe, hpack, h11, chardet, idna, hstspreload, h2, httpcore, httpx, googletrans\n",
            "  Attempting uninstall: chardet\n",
            "    Found existing installation: chardet 4.0.0\n",
            "    Uninstalling chardet-4.0.0:\n",
            "      Successfully uninstalled chardet-4.0.0\n",
            "  Attempting uninstall: idna\n",
            "    Found existing installation: idna 3.4\n",
            "    Uninstalling idna-3.4:\n",
            "      Successfully uninstalled idna-3.4\n",
            "Successfully installed chardet-3.0.4 googletrans-3.1.0a0 h11-0.9.0 h2-3.2.0 hpack-3.0.0 hstspreload-2023.1.1 httpcore-0.9.1 httpx-0.13.3 hyperframe-5.2.0 idna-2.10 rfc3986-1.5.0\n"
          ]
        },
        {
          "output_type": "display_data",
          "data": {
            "application/vnd.colab-display-data+json": {
              "pip_warning": {
                "packages": [
                  "chardet",
                  "idna"
                ]
              }
            }
          },
          "metadata": {}
        }
      ]
    },
    {
      "cell_type": "code",
      "source": [
        "from googletrans import Translator"
      ],
      "metadata": {
        "id": "M-ehunxPsFKr"
      },
      "execution_count": 58,
      "outputs": []
    },
    {
      "cell_type": "code",
      "source": [
        "translator = Translator()"
      ],
      "metadata": {
        "id": "bqgtg4g6sFN8"
      },
      "execution_count": 59,
      "outputs": []
    },
    {
      "cell_type": "code",
      "source": [
        "result = translator.translate(pretrained_text, lang_tgt='en')"
      ],
      "metadata": {
        "id": "OyPBgpPLsLXl"
      },
      "execution_count": 60,
      "outputs": []
    },
    {
      "cell_type": "code",
      "source": [
        "print(result)"
      ],
      "metadata": {
        "id": "IOKbGelGsLbj",
        "colab": {
          "base_uri": "https://localhost:8080/"
        },
        "outputId": "0f071a09-11a2-4de6-cd76-e8e60c3be7e8"
      },
      "execution_count": 61,
      "outputs": [
        {
          "output_type": "stream",
          "name": "stdout",
          "text": [
            "Translated(src=es, dest=en, text=I make content with a lot of effort, it would be very motivating if you could subscribe to my channel, pronunciation=I make content with a lot of effort, it would be very motivating if you could subscribe to my channel, extra_data=\"{'translat...\")\n"
          ]
        }
      ]
    }
  ]
}